{
 "cells": [
  {
   "cell_type": "markdown",
   "metadata": {},
   "source": [
    "# Pandas 기초"
   ]
  },
  {
   "cell_type": "markdown",
   "metadata": {},
   "source": [
    "- Pandas는 파이썬에서 사용하는 데이터 분석 라이브러리로, 행과 열로 이루어진 데이터 객체를 다룰 수 있게 되며 보다 안정적으로 대용량의 데이터들을 처리하는 데 매우 편리한 도구"
   ]
  },
  {
   "cell_type": "markdown",
   "metadata": {},
   "source": [
    "### 1. Pandas 불러오기"
   ]
  },
  {
   "cell_type": "code",
   "execution_count": 2,
   "metadata": {},
   "outputs": [],
   "source": [
    "import pandas as pd\n",
    "import numpy as np"
   ]
  },
  {
   "cell_type": "markdown",
   "metadata": {},
   "source": [
    "### 2. Pandas 자료구조\n",
    "- Pandas에서는 기본적으로 정의되는 자료구조인 Series와 DataFrame을 사용합니다.\n",
    "- 이 자료구조들은 빅데이터 분석에 있어서 높은 수준의 성능을 보여줍니다."
   ]
  },
  {
   "cell_type": "markdown",
   "metadata": {},
   "source": [
    "#### 2-1. Series 자료구조"
   ]
  },
  {
   "cell_type": "code",
   "execution_count": 3,
   "metadata": {},
   "outputs": [
    {
     "data": {
      "text/plain": [
       "array([ 4,  7, -5,  3], dtype=int64)"
      ]
     },
     "execution_count": 3,
     "metadata": {},
     "output_type": "execute_result"
    }
   ],
   "source": [
    "# Series 정의하기\n",
    "Series_type = pd.Series([4, 7, -5, 3])\n",
    "\n",
    "# Series의 값만 확인하기\n",
    "Series_type.values"
   ]
  },
  {
   "cell_type": "code",
   "execution_count": 4,
   "metadata": {},
   "outputs": [
    {
     "data": {
      "text/plain": [
       "RangeIndex(start=0, stop=4, step=1)"
      ]
     },
     "execution_count": 4,
     "metadata": {},
     "output_type": "execute_result"
    }
   ],
   "source": [
    "# Series의 인덱스만 확인하기\n",
    "Series_type.index"
   ]
  },
  {
   "cell_type": "code",
   "execution_count": 5,
   "metadata": {},
   "outputs": [
    {
     "data": {
      "text/plain": [
       "dtype('int64')"
      ]
     },
     "execution_count": 5,
     "metadata": {},
     "output_type": "execute_result"
    }
   ],
   "source": [
    "# Series의 자료형 확인하기\n",
    "Series_type.dtypes"
   ]
  },
  {
   "cell_type": "code",
   "execution_count": 6,
   "metadata": {},
   "outputs": [],
   "source": [
    "# Series 인덱스 지정\n",
    "Series_type_new_index = pd.Series([4, 7, -5, 3],\n",
    "                                  index = ['d', 'b', 'a', 'c'])"
   ]
  },
  {
   "cell_type": "code",
   "execution_count": 7,
   "metadata": {},
   "outputs": [
    {
     "data": {
      "text/plain": [
       "kim     100\n",
       "lee      90\n",
       "jung     80\n",
       "hong     95\n",
       "dtype: int64"
      ]
     },
     "execution_count": 7,
     "metadata": {},
     "output_type": "execute_result"
    }
   ],
   "source": [
    "# dictionary를 Series로 만들기\n",
    "# dictionary의 key가 인덱스로 지정\n",
    "dict_data = {'kim':100, 'lee':90, 'jung':80, 'hong':95}\n",
    "dict_to_series = pd.Series(dict_data)\n",
    "dict_to_series"
   ]
  },
  {
   "cell_type": "code",
   "execution_count": 8,
   "metadata": {},
   "outputs": [
    {
     "data": {
      "text/plain": [
       "Names\n",
       "kim     100\n",
       "lee      90\n",
       "jung     80\n",
       "hong     95\n",
       "Name: Salary, dtype: int64"
      ]
     },
     "execution_count": 8,
     "metadata": {},
     "output_type": "execute_result"
    }
   ],
   "source": [
    "# Series의 명칭과 인덱스명 설정\n",
    "dict_to_series.name = 'Salary'\n",
    "dict_to_series.index.name = 'Names'\n",
    "dict_to_series"
   ]
  },
  {
   "cell_type": "code",
   "execution_count": 9,
   "metadata": {},
   "outputs": [
    {
     "data": {
      "text/plain": [
       "A    100\n",
       "B     90\n",
       "C     80\n",
       "D     95\n",
       "Name: Salary, dtype: int64"
      ]
     },
     "execution_count": 9,
     "metadata": {},
     "output_type": "execute_result"
    }
   ],
   "source": [
    "# Series 인덱스 변경\n",
    "dict_to_series.index = ['A', 'B', 'C', 'D']\n",
    "dict_to_series"
   ]
  },
  {
   "cell_type": "markdown",
   "metadata": {},
   "source": [
    "#### 2-2. DataFrame 자료구조"
   ]
  },
  {
   "cell_type": "code",
   "execution_count": 10,
   "metadata": {},
   "outputs": [
    {
     "data": {
      "text/html": [
       "<div>\n",
       "<style scoped>\n",
       "    .dataframe tbody tr th:only-of-type {\n",
       "        vertical-align: middle;\n",
       "    }\n",
       "\n",
       "    .dataframe tbody tr th {\n",
       "        vertical-align: top;\n",
       "    }\n",
       "\n",
       "    .dataframe thead th {\n",
       "        text-align: right;\n",
       "    }\n",
       "</style>\n",
       "<table border=\"1\" class=\"dataframe\">\n",
       "  <thead>\n",
       "    <tr style=\"text-align: right;\">\n",
       "      <th></th>\n",
       "      <th>name</th>\n",
       "      <th>year</th>\n",
       "      <th>points</th>\n",
       "    </tr>\n",
       "  </thead>\n",
       "  <tbody>\n",
       "    <tr>\n",
       "      <th>0</th>\n",
       "      <td>kim</td>\n",
       "      <td>2013</td>\n",
       "      <td>2</td>\n",
       "    </tr>\n",
       "    <tr>\n",
       "      <th>1</th>\n",
       "      <td>kim</td>\n",
       "      <td>2014</td>\n",
       "      <td>3</td>\n",
       "    </tr>\n",
       "    <tr>\n",
       "      <th>2</th>\n",
       "      <td>kim</td>\n",
       "      <td>2015</td>\n",
       "      <td>4</td>\n",
       "    </tr>\n",
       "    <tr>\n",
       "      <th>3</th>\n",
       "      <td>lee</td>\n",
       "      <td>2016</td>\n",
       "      <td>5</td>\n",
       "    </tr>\n",
       "    <tr>\n",
       "      <th>4</th>\n",
       "      <td>hong</td>\n",
       "      <td>2017</td>\n",
       "      <td>3</td>\n",
       "    </tr>\n",
       "  </tbody>\n",
       "</table>\n",
       "</div>"
      ],
      "text/plain": [
       "   name  year  points\n",
       "0   kim  2013       2\n",
       "1   kim  2014       3\n",
       "2   kim  2015       4\n",
       "3   lee  2016       5\n",
       "4  hong  2017       3"
      ]
     },
     "execution_count": 10,
     "metadata": {},
     "output_type": "execute_result"
    }
   ],
   "source": [
    "# Dataframe 정의\n",
    "data = {'name':['kim', 'kim', 'kim', 'lee', 'hong'],\n",
    "       'year':[2013, 2014, 2015, 2016, 2017],\n",
    "       'points':[2, 3, 4, 5, 3]}\n",
    "\n",
    "df = pd.DataFrame(data)\n",
    "df"
   ]
  },
  {
   "cell_type": "code",
   "execution_count": 11,
   "metadata": {},
   "outputs": [
    {
     "name": "stdout",
     "output_type": "stream",
     "text": [
      "RangeIndex(start=0, stop=5, step=1)\n",
      "Index(['name', 'year', 'points'], dtype='object')\n"
     ]
    }
   ],
   "source": [
    "# index와 column 확인\n",
    "print(df.index)\n",
    "print(df.columns)"
   ]
  },
  {
   "cell_type": "code",
   "execution_count": 12,
   "metadata": {},
   "outputs": [
    {
     "data": {
      "text/plain": [
       "array([['kim', 2013, 2],\n",
       "       ['kim', 2014, 3],\n",
       "       ['kim', 2015, 4],\n",
       "       ['lee', 2016, 5],\n",
       "       ['hong', 2017, 3]], dtype=object)"
      ]
     },
     "execution_count": 12,
     "metadata": {},
     "output_type": "execute_result"
    }
   ],
   "source": [
    "# 값 확인\n",
    "df.values"
   ]
  },
  {
   "cell_type": "code",
   "execution_count": 13,
   "metadata": {},
   "outputs": [
    {
     "data": {
      "text/html": [
       "<div>\n",
       "<style scoped>\n",
       "    .dataframe tbody tr th:only-of-type {\n",
       "        vertical-align: middle;\n",
       "    }\n",
       "\n",
       "    .dataframe tbody tr th {\n",
       "        vertical-align: top;\n",
       "    }\n",
       "\n",
       "    .dataframe thead th {\n",
       "        text-align: right;\n",
       "    }\n",
       "</style>\n",
       "<table border=\"1\" class=\"dataframe\">\n",
       "  <thead>\n",
       "    <tr style=\"text-align: right;\">\n",
       "      <th>Info</th>\n",
       "      <th>name</th>\n",
       "      <th>year</th>\n",
       "      <th>points</th>\n",
       "    </tr>\n",
       "    <tr>\n",
       "      <th>NUM</th>\n",
       "      <th></th>\n",
       "      <th></th>\n",
       "      <th></th>\n",
       "    </tr>\n",
       "  </thead>\n",
       "  <tbody>\n",
       "    <tr>\n",
       "      <th>0</th>\n",
       "      <td>kim</td>\n",
       "      <td>2013</td>\n",
       "      <td>2</td>\n",
       "    </tr>\n",
       "    <tr>\n",
       "      <th>1</th>\n",
       "      <td>kim</td>\n",
       "      <td>2014</td>\n",
       "      <td>3</td>\n",
       "    </tr>\n",
       "    <tr>\n",
       "      <th>2</th>\n",
       "      <td>kim</td>\n",
       "      <td>2015</td>\n",
       "      <td>4</td>\n",
       "    </tr>\n",
       "    <tr>\n",
       "      <th>3</th>\n",
       "      <td>lee</td>\n",
       "      <td>2016</td>\n",
       "      <td>5</td>\n",
       "    </tr>\n",
       "    <tr>\n",
       "      <th>4</th>\n",
       "      <td>hong</td>\n",
       "      <td>2017</td>\n",
       "      <td>3</td>\n",
       "    </tr>\n",
       "  </tbody>\n",
       "</table>\n",
       "</div>"
      ],
      "text/plain": [
       "Info  name  year  points\n",
       "NUM                     \n",
       "0      kim  2013       2\n",
       "1      kim  2014       3\n",
       "2      kim  2015       4\n",
       "3      lee  2016       5\n",
       "4     hong  2017       3"
      ]
     },
     "execution_count": 13,
     "metadata": {},
     "output_type": "execute_result"
    }
   ],
   "source": [
    "# 인덱스와 열에 대한 이름 설정\n",
    "df.index.name = 'NUM'\n",
    "df.columns.name = \"Info\"\n",
    "df"
   ]
  },
  {
   "cell_type": "code",
   "execution_count": 14,
   "metadata": {},
   "outputs": [
    {
     "data": {
      "text/html": [
       "<div>\n",
       "<style scoped>\n",
       "    .dataframe tbody tr th:only-of-type {\n",
       "        vertical-align: middle;\n",
       "    }\n",
       "\n",
       "    .dataframe tbody tr th {\n",
       "        vertical-align: top;\n",
       "    }\n",
       "\n",
       "    .dataframe thead th {\n",
       "        text-align: right;\n",
       "    }\n",
       "</style>\n",
       "<table border=\"1\" class=\"dataframe\">\n",
       "  <thead>\n",
       "    <tr style=\"text-align: right;\">\n",
       "      <th></th>\n",
       "      <th>year</th>\n",
       "      <th>name</th>\n",
       "      <th>points</th>\n",
       "      <th>penalty</th>\n",
       "    </tr>\n",
       "  </thead>\n",
       "  <tbody>\n",
       "    <tr>\n",
       "      <th>one</th>\n",
       "      <td>2013</td>\n",
       "      <td>kim</td>\n",
       "      <td>2</td>\n",
       "      <td>NaN</td>\n",
       "    </tr>\n",
       "    <tr>\n",
       "      <th>two</th>\n",
       "      <td>2014</td>\n",
       "      <td>kim</td>\n",
       "      <td>3</td>\n",
       "      <td>NaN</td>\n",
       "    </tr>\n",
       "    <tr>\n",
       "      <th>three</th>\n",
       "      <td>2015</td>\n",
       "      <td>kim</td>\n",
       "      <td>4</td>\n",
       "      <td>NaN</td>\n",
       "    </tr>\n",
       "    <tr>\n",
       "      <th>four</th>\n",
       "      <td>2016</td>\n",
       "      <td>lee</td>\n",
       "      <td>5</td>\n",
       "      <td>NaN</td>\n",
       "    </tr>\n",
       "    <tr>\n",
       "      <th>five</th>\n",
       "      <td>2017</td>\n",
       "      <td>hong</td>\n",
       "      <td>3</td>\n",
       "      <td>NaN</td>\n",
       "    </tr>\n",
       "  </tbody>\n",
       "</table>\n",
       "</div>"
      ],
      "text/plain": [
       "       year  name  points penalty\n",
       "one    2013   kim       2     NaN\n",
       "two    2014   kim       3     NaN\n",
       "three  2015   kim       4     NaN\n",
       "four   2016   lee       5     NaN\n",
       "five   2017  hong       3     NaN"
      ]
     },
     "execution_count": 14,
     "metadata": {},
     "output_type": "execute_result"
    }
   ],
   "source": [
    "# DataFrame을 만드는 과정에서 column과 index 설정\n",
    "# dictionary와 columns의 순서가 맞지 않아도 알아서 정의되지만,\n",
    "# Null Value로 나타난다.\n",
    "\n",
    "df2 = pd.DataFrame(data,\n",
    "               columns = ['year', 'name', 'points', 'penalty'],\n",
    "               index = ['one', 'two', 'three', 'four', 'five'])\n",
    "df2"
   ]
  },
  {
   "cell_type": "code",
   "execution_count": 15,
   "metadata": {},
   "outputs": [
    {
     "data": {
      "text/html": [
       "<div>\n",
       "<style scoped>\n",
       "    .dataframe tbody tr th:only-of-type {\n",
       "        vertical-align: middle;\n",
       "    }\n",
       "\n",
       "    .dataframe tbody tr th {\n",
       "        vertical-align: top;\n",
       "    }\n",
       "\n",
       "    .dataframe thead th {\n",
       "        text-align: right;\n",
       "    }\n",
       "</style>\n",
       "<table border=\"1\" class=\"dataframe\">\n",
       "  <thead>\n",
       "    <tr style=\"text-align: right;\">\n",
       "      <th></th>\n",
       "      <th>year</th>\n",
       "      <th>name</th>\n",
       "      <th>points</th>\n",
       "      <th>penalty</th>\n",
       "      <th>zeros</th>\n",
       "    </tr>\n",
       "  </thead>\n",
       "  <tbody>\n",
       "    <tr>\n",
       "      <th>one</th>\n",
       "      <td>2013</td>\n",
       "      <td>kim</td>\n",
       "      <td>2</td>\n",
       "      <td>NaN</td>\n",
       "      <td>0</td>\n",
       "    </tr>\n",
       "    <tr>\n",
       "      <th>two</th>\n",
       "      <td>2014</td>\n",
       "      <td>kim</td>\n",
       "      <td>3</td>\n",
       "      <td>NaN</td>\n",
       "      <td>1</td>\n",
       "    </tr>\n",
       "    <tr>\n",
       "      <th>three</th>\n",
       "      <td>2015</td>\n",
       "      <td>kim</td>\n",
       "      <td>4</td>\n",
       "      <td>NaN</td>\n",
       "      <td>2</td>\n",
       "    </tr>\n",
       "    <tr>\n",
       "      <th>four</th>\n",
       "      <td>2016</td>\n",
       "      <td>lee</td>\n",
       "      <td>5</td>\n",
       "      <td>NaN</td>\n",
       "      <td>3</td>\n",
       "    </tr>\n",
       "    <tr>\n",
       "      <th>five</th>\n",
       "      <td>2017</td>\n",
       "      <td>hong</td>\n",
       "      <td>3</td>\n",
       "      <td>NaN</td>\n",
       "      <td>4</td>\n",
       "    </tr>\n",
       "  </tbody>\n",
       "</table>\n",
       "</div>"
      ],
      "text/plain": [
       "       year  name  points penalty  zeros\n",
       "one    2013   kim       2     NaN      0\n",
       "two    2014   kim       3     NaN      1\n",
       "three  2015   kim       4     NaN      2\n",
       "four   2016   lee       5     NaN      3\n",
       "five   2017  hong       3     NaN      4"
      ]
     },
     "execution_count": 15,
     "metadata": {},
     "output_type": "execute_result"
    }
   ],
   "source": [
    "# 새로운 열 추가\n",
    "df2['zeros'] = np.arange(5)\n",
    "df2"
   ]
  },
  {
   "cell_type": "code",
   "execution_count": 16,
   "metadata": {},
   "outputs": [
    {
     "data": {
      "text/html": [
       "<div>\n",
       "<style scoped>\n",
       "    .dataframe tbody tr th:only-of-type {\n",
       "        vertical-align: middle;\n",
       "    }\n",
       "\n",
       "    .dataframe tbody tr th {\n",
       "        vertical-align: top;\n",
       "    }\n",
       "\n",
       "    .dataframe thead th {\n",
       "        text-align: right;\n",
       "    }\n",
       "</style>\n",
       "<table border=\"1\" class=\"dataframe\">\n",
       "  <thead>\n",
       "    <tr style=\"text-align: right;\">\n",
       "      <th></th>\n",
       "      <th>year</th>\n",
       "      <th>name</th>\n",
       "      <th>points</th>\n",
       "      <th>penalty</th>\n",
       "      <th>zeros</th>\n",
       "      <th>debt</th>\n",
       "    </tr>\n",
       "  </thead>\n",
       "  <tbody>\n",
       "    <tr>\n",
       "      <th>one</th>\n",
       "      <td>2013</td>\n",
       "      <td>kim</td>\n",
       "      <td>2</td>\n",
       "      <td>NaN</td>\n",
       "      <td>0</td>\n",
       "      <td>NaN</td>\n",
       "    </tr>\n",
       "    <tr>\n",
       "      <th>two</th>\n",
       "      <td>2014</td>\n",
       "      <td>kim</td>\n",
       "      <td>3</td>\n",
       "      <td>NaN</td>\n",
       "      <td>1</td>\n",
       "      <td>-12.0</td>\n",
       "    </tr>\n",
       "    <tr>\n",
       "      <th>three</th>\n",
       "      <td>2015</td>\n",
       "      <td>kim</td>\n",
       "      <td>4</td>\n",
       "      <td>NaN</td>\n",
       "      <td>2</td>\n",
       "      <td>NaN</td>\n",
       "    </tr>\n",
       "    <tr>\n",
       "      <th>four</th>\n",
       "      <td>2016</td>\n",
       "      <td>lee</td>\n",
       "      <td>5</td>\n",
       "      <td>NaN</td>\n",
       "      <td>3</td>\n",
       "      <td>-15.0</td>\n",
       "    </tr>\n",
       "    <tr>\n",
       "      <th>five</th>\n",
       "      <td>2017</td>\n",
       "      <td>hong</td>\n",
       "      <td>3</td>\n",
       "      <td>NaN</td>\n",
       "      <td>4</td>\n",
       "      <td>-17.0</td>\n",
       "    </tr>\n",
       "  </tbody>\n",
       "</table>\n",
       "</div>"
      ],
      "text/plain": [
       "       year  name  points penalty  zeros  debt\n",
       "one    2013   kim       2     NaN      0   NaN\n",
       "two    2014   kim       3     NaN      1 -12.0\n",
       "three  2015   kim       4     NaN      2   NaN\n",
       "four   2016   lee       5     NaN      3 -15.0\n",
       "five   2017  hong       3     NaN      4 -17.0"
      ]
     },
     "execution_count": 16,
     "metadata": {},
     "output_type": "execute_result"
    }
   ],
   "source": [
    "# Series를 새로운 열로 추가\n",
    "# index에 맞춰서 들어간다.\n",
    "value = pd.Series([-12, -15, -17],\n",
    "                  index = ['two', 'four', 'five'])\n",
    "df2['debt'] = value\n",
    "df2"
   ]
  },
  {
   "cell_type": "code",
   "execution_count": 17,
   "metadata": {},
   "outputs": [
    {
     "data": {
      "text/html": [
       "<div>\n",
       "<style scoped>\n",
       "    .dataframe tbody tr th:only-of-type {\n",
       "        vertical-align: middle;\n",
       "    }\n",
       "\n",
       "    .dataframe tbody tr th {\n",
       "        vertical-align: top;\n",
       "    }\n",
       "\n",
       "    .dataframe thead th {\n",
       "        text-align: right;\n",
       "    }\n",
       "</style>\n",
       "<table border=\"1\" class=\"dataframe\">\n",
       "  <thead>\n",
       "    <tr style=\"text-align: right;\">\n",
       "      <th></th>\n",
       "      <th>year</th>\n",
       "      <th>name</th>\n",
       "      <th>points</th>\n",
       "      <th>penalty</th>\n",
       "      <th>debt</th>\n",
       "    </tr>\n",
       "  </thead>\n",
       "  <tbody>\n",
       "    <tr>\n",
       "      <th>one</th>\n",
       "      <td>2013</td>\n",
       "      <td>kim</td>\n",
       "      <td>2</td>\n",
       "      <td>NaN</td>\n",
       "      <td>NaN</td>\n",
       "    </tr>\n",
       "    <tr>\n",
       "      <th>two</th>\n",
       "      <td>2014</td>\n",
       "      <td>kim</td>\n",
       "      <td>3</td>\n",
       "      <td>NaN</td>\n",
       "      <td>-12.0</td>\n",
       "    </tr>\n",
       "    <tr>\n",
       "      <th>three</th>\n",
       "      <td>2015</td>\n",
       "      <td>kim</td>\n",
       "      <td>4</td>\n",
       "      <td>NaN</td>\n",
       "      <td>NaN</td>\n",
       "    </tr>\n",
       "    <tr>\n",
       "      <th>four</th>\n",
       "      <td>2016</td>\n",
       "      <td>lee</td>\n",
       "      <td>5</td>\n",
       "      <td>NaN</td>\n",
       "      <td>-15.0</td>\n",
       "    </tr>\n",
       "    <tr>\n",
       "      <th>five</th>\n",
       "      <td>2017</td>\n",
       "      <td>hong</td>\n",
       "      <td>3</td>\n",
       "      <td>NaN</td>\n",
       "      <td>-17.0</td>\n",
       "    </tr>\n",
       "  </tbody>\n",
       "</table>\n",
       "</div>"
      ],
      "text/plain": [
       "       year  name  points penalty  debt\n",
       "one    2013   kim       2     NaN   NaN\n",
       "two    2014   kim       3     NaN -12.0\n",
       "three  2015   kim       4     NaN   NaN\n",
       "four   2016   lee       5     NaN -15.0\n",
       "five   2017  hong       3     NaN -17.0"
      ]
     },
     "execution_count": 17,
     "metadata": {},
     "output_type": "execute_result"
    }
   ],
   "source": [
    "# 열 삭제\n",
    "del df2['zeros']\n",
    "df2"
   ]
  },
  {
   "cell_type": "markdown",
   "metadata": {},
   "source": [
    "#### 2-3.DataFrame에서 행을 선택하고 조작하기 (인덱싱)"
   ]
  },
  {
   "cell_type": "code",
   "execution_count": 18,
   "metadata": {},
   "outputs": [],
   "source": [
    "df = df2"
   ]
  },
  {
   "cell_type": "code",
   "execution_count": 19,
   "metadata": {},
   "outputs": [
    {
     "data": {
      "text/html": [
       "<div>\n",
       "<style scoped>\n",
       "    .dataframe tbody tr th:only-of-type {\n",
       "        vertical-align: middle;\n",
       "    }\n",
       "\n",
       "    .dataframe tbody tr th {\n",
       "        vertical-align: top;\n",
       "    }\n",
       "\n",
       "    .dataframe thead th {\n",
       "        text-align: right;\n",
       "    }\n",
       "</style>\n",
       "<table border=\"1\" class=\"dataframe\">\n",
       "  <thead>\n",
       "    <tr style=\"text-align: right;\">\n",
       "      <th></th>\n",
       "      <th>year</th>\n",
       "      <th>name</th>\n",
       "      <th>points</th>\n",
       "      <th>penalty</th>\n",
       "      <th>debt</th>\n",
       "    </tr>\n",
       "  </thead>\n",
       "  <tbody>\n",
       "    <tr>\n",
       "      <th>one</th>\n",
       "      <td>2013</td>\n",
       "      <td>kim</td>\n",
       "      <td>2</td>\n",
       "      <td>NaN</td>\n",
       "      <td>NaN</td>\n",
       "    </tr>\n",
       "    <tr>\n",
       "      <th>two</th>\n",
       "      <td>2014</td>\n",
       "      <td>kim</td>\n",
       "      <td>3</td>\n",
       "      <td>NaN</td>\n",
       "      <td>-12.0</td>\n",
       "    </tr>\n",
       "    <tr>\n",
       "      <th>three</th>\n",
       "      <td>2015</td>\n",
       "      <td>kim</td>\n",
       "      <td>4</td>\n",
       "      <td>NaN</td>\n",
       "      <td>NaN</td>\n",
       "    </tr>\n",
       "  </tbody>\n",
       "</table>\n",
       "</div>"
      ],
      "text/plain": [
       "       year name  points penalty  debt\n",
       "one    2013  kim       2     NaN   NaN\n",
       "two    2014  kim       3     NaN -12.0\n",
       "three  2015  kim       4     NaN   NaN"
      ]
     },
     "execution_count": 19,
     "metadata": {},
     "output_type": "execute_result"
    }
   ],
   "source": [
    "# 0번째 부터 2번째 까지 행을 가져옴\n",
    "df[0:3]"
   ]
  },
  {
   "cell_type": "code",
   "execution_count": 20,
   "metadata": {},
   "outputs": [
    {
     "data": {
      "text/html": [
       "<div>\n",
       "<style scoped>\n",
       "    .dataframe tbody tr th:only-of-type {\n",
       "        vertical-align: middle;\n",
       "    }\n",
       "\n",
       "    .dataframe tbody tr th {\n",
       "        vertical-align: top;\n",
       "    }\n",
       "\n",
       "    .dataframe thead th {\n",
       "        text-align: right;\n",
       "    }\n",
       "</style>\n",
       "<table border=\"1\" class=\"dataframe\">\n",
       "  <thead>\n",
       "    <tr style=\"text-align: right;\">\n",
       "      <th></th>\n",
       "      <th>year</th>\n",
       "      <th>name</th>\n",
       "      <th>points</th>\n",
       "      <th>penalty</th>\n",
       "      <th>debt</th>\n",
       "    </tr>\n",
       "  </thead>\n",
       "  <tbody>\n",
       "    <tr>\n",
       "      <th>two</th>\n",
       "      <td>2014</td>\n",
       "      <td>kim</td>\n",
       "      <td>3</td>\n",
       "      <td>NaN</td>\n",
       "      <td>-12.0</td>\n",
       "    </tr>\n",
       "    <tr>\n",
       "      <th>three</th>\n",
       "      <td>2015</td>\n",
       "      <td>kim</td>\n",
       "      <td>4</td>\n",
       "      <td>NaN</td>\n",
       "      <td>NaN</td>\n",
       "    </tr>\n",
       "    <tr>\n",
       "      <th>four</th>\n",
       "      <td>2016</td>\n",
       "      <td>lee</td>\n",
       "      <td>5</td>\n",
       "      <td>NaN</td>\n",
       "      <td>-15.0</td>\n",
       "    </tr>\n",
       "  </tbody>\n",
       "</table>\n",
       "</div>"
      ],
      "text/plain": [
       "       year name  points penalty  debt\n",
       "two    2014  kim       3     NaN -12.0\n",
       "three  2015  kim       4     NaN   NaN\n",
       "four   2016  lee       5     NaN -15.0"
      ]
     },
     "execution_count": 20,
     "metadata": {},
     "output_type": "execute_result"
    }
   ],
   "source": [
    "# 1번째 부터 3번째까지 행을 가져옴 (loc)\n",
    "df.loc['two':'four']"
   ]
  },
  {
   "cell_type": "code",
   "execution_count": 21,
   "metadata": {},
   "outputs": [
    {
     "data": {
      "text/plain": [
       "two      3\n",
       "three    4\n",
       "four     5\n",
       "Name: points, dtype: int64"
      ]
     },
     "execution_count": 21,
     "metadata": {},
     "output_type": "execute_result"
    }
   ],
   "source": [
    "# points 열의 1번째 부터 3번째까지 행을 가져옴 (loc)\n",
    "df.loc['two':'four', 'points']"
   ]
  },
  {
   "cell_type": "code",
   "execution_count": 22,
   "metadata": {},
   "outputs": [
    {
     "data": {
      "text/html": [
       "<div>\n",
       "<style scoped>\n",
       "    .dataframe tbody tr th:only-of-type {\n",
       "        vertical-align: middle;\n",
       "    }\n",
       "\n",
       "    .dataframe tbody tr th {\n",
       "        vertical-align: top;\n",
       "    }\n",
       "\n",
       "    .dataframe thead th {\n",
       "        text-align: right;\n",
       "    }\n",
       "</style>\n",
       "<table border=\"1\" class=\"dataframe\">\n",
       "  <thead>\n",
       "    <tr style=\"text-align: right;\">\n",
       "      <th></th>\n",
       "      <th>year</th>\n",
       "      <th>name</th>\n",
       "      <th>points</th>\n",
       "      <th>penalty</th>\n",
       "      <th>debt</th>\n",
       "    </tr>\n",
       "  </thead>\n",
       "  <tbody>\n",
       "    <tr>\n",
       "      <th>one</th>\n",
       "      <td>2013.0</td>\n",
       "      <td>kim</td>\n",
       "      <td>2.0</td>\n",
       "      <td>NaN</td>\n",
       "      <td>NaN</td>\n",
       "    </tr>\n",
       "    <tr>\n",
       "      <th>two</th>\n",
       "      <td>2014.0</td>\n",
       "      <td>kim</td>\n",
       "      <td>3.0</td>\n",
       "      <td>NaN</td>\n",
       "      <td>-12.0</td>\n",
       "    </tr>\n",
       "    <tr>\n",
       "      <th>three</th>\n",
       "      <td>2015.0</td>\n",
       "      <td>kim</td>\n",
       "      <td>4.0</td>\n",
       "      <td>NaN</td>\n",
       "      <td>NaN</td>\n",
       "    </tr>\n",
       "    <tr>\n",
       "      <th>four</th>\n",
       "      <td>2016.0</td>\n",
       "      <td>lee</td>\n",
       "      <td>5.0</td>\n",
       "      <td>NaN</td>\n",
       "      <td>-15.0</td>\n",
       "    </tr>\n",
       "    <tr>\n",
       "      <th>five</th>\n",
       "      <td>2017.0</td>\n",
       "      <td>hong</td>\n",
       "      <td>3.0</td>\n",
       "      <td>NaN</td>\n",
       "      <td>-17.0</td>\n",
       "    </tr>\n",
       "    <tr>\n",
       "      <th>six</th>\n",
       "      <td>2014.0</td>\n",
       "      <td>jun</td>\n",
       "      <td>4.0</td>\n",
       "      <td>0.1</td>\n",
       "      <td>-20.0</td>\n",
       "    </tr>\n",
       "  </tbody>\n",
       "</table>\n",
       "</div>"
      ],
      "text/plain": [
       "         year  name  points penalty  debt\n",
       "one    2013.0   kim     2.0     NaN   NaN\n",
       "two    2014.0   kim     3.0     NaN -12.0\n",
       "three  2015.0   kim     4.0     NaN   NaN\n",
       "four   2016.0   lee     5.0     NaN -15.0\n",
       "five   2017.0  hong     3.0     NaN -17.0\n",
       "six    2014.0   jun     4.0     0.1 -20.0"
      ]
     },
     "execution_count": 22,
     "metadata": {},
     "output_type": "execute_result"
    }
   ],
   "source": [
    "# 새로운 행 삽입하기\n",
    "df.loc['six',:] = [2014, 'jun', 4.0, 0.1, -20] \n",
    "df"
   ]
  },
  {
   "cell_type": "code",
   "execution_count": 23,
   "metadata": {},
   "outputs": [
    {
     "data": {
      "text/html": [
       "<div>\n",
       "<style scoped>\n",
       "    .dataframe tbody tr th:only-of-type {\n",
       "        vertical-align: middle;\n",
       "    }\n",
       "\n",
       "    .dataframe tbody tr th {\n",
       "        vertical-align: top;\n",
       "    }\n",
       "\n",
       "    .dataframe thead th {\n",
       "        text-align: right;\n",
       "    }\n",
       "</style>\n",
       "<table border=\"1\" class=\"dataframe\">\n",
       "  <thead>\n",
       "    <tr style=\"text-align: right;\">\n",
       "      <th></th>\n",
       "      <th>name</th>\n",
       "      <th>points</th>\n",
       "    </tr>\n",
       "  </thead>\n",
       "  <tbody>\n",
       "    <tr>\n",
       "      <th>one</th>\n",
       "      <td>kim</td>\n",
       "      <td>2.0</td>\n",
       "    </tr>\n",
       "    <tr>\n",
       "      <th>two</th>\n",
       "      <td>kim</td>\n",
       "      <td>3.0</td>\n",
       "    </tr>\n",
       "    <tr>\n",
       "      <th>four</th>\n",
       "      <td>lee</td>\n",
       "      <td>5.0</td>\n",
       "    </tr>\n",
       "  </tbody>\n",
       "</table>\n",
       "</div>"
      ],
      "text/plain": [
       "     name  points\n",
       "one   kim     2.0\n",
       "two   kim     3.0\n",
       "four  lee     5.0"
      ]
     },
     "execution_count": 23,
     "metadata": {},
     "output_type": "execute_result"
    }
   ],
   "source": [
    "# iloc인덱싱\n",
    "df.iloc[[0, 1, 3], [1, 2]]"
   ]
  },
  {
   "cell_type": "markdown",
   "metadata": {},
   "source": [
    "### 3. Data"
   ]
  },
  {
   "cell_type": "code",
   "execution_count": 24,
   "metadata": {},
   "outputs": [
    {
     "data": {
      "text/html": [
       "<div>\n",
       "<style scoped>\n",
       "    .dataframe tbody tr th:only-of-type {\n",
       "        vertical-align: middle;\n",
       "    }\n",
       "\n",
       "    .dataframe tbody tr th {\n",
       "        vertical-align: top;\n",
       "    }\n",
       "\n",
       "    .dataframe thead th {\n",
       "        text-align: right;\n",
       "    }\n",
       "</style>\n",
       "<table border=\"1\" class=\"dataframe\">\n",
       "  <thead>\n",
       "    <tr style=\"text-align: right;\">\n",
       "      <th></th>\n",
       "      <th>0</th>\n",
       "      <th>1</th>\n",
       "      <th>2</th>\n",
       "      <th>3</th>\n",
       "    </tr>\n",
       "  </thead>\n",
       "  <tbody>\n",
       "    <tr>\n",
       "      <th>0</th>\n",
       "      <td>0.268639</td>\n",
       "      <td>0.025462</td>\n",
       "      <td>0.180030</td>\n",
       "      <td>1.523984</td>\n",
       "    </tr>\n",
       "    <tr>\n",
       "      <th>1</th>\n",
       "      <td>0.729016</td>\n",
       "      <td>0.444074</td>\n",
       "      <td>0.311564</td>\n",
       "      <td>-3.117667</td>\n",
       "    </tr>\n",
       "    <tr>\n",
       "      <th>2</th>\n",
       "      <td>0.195033</td>\n",
       "      <td>-0.205909</td>\n",
       "      <td>1.464761</td>\n",
       "      <td>-0.521393</td>\n",
       "    </tr>\n",
       "    <tr>\n",
       "      <th>3</th>\n",
       "      <td>0.557003</td>\n",
       "      <td>-1.419804</td>\n",
       "      <td>0.895612</td>\n",
       "      <td>-0.008003</td>\n",
       "    </tr>\n",
       "    <tr>\n",
       "      <th>4</th>\n",
       "      <td>-0.526268</td>\n",
       "      <td>-0.548310</td>\n",
       "      <td>-1.588735</td>\n",
       "      <td>0.461697</td>\n",
       "    </tr>\n",
       "    <tr>\n",
       "      <th>5</th>\n",
       "      <td>-0.215721</td>\n",
       "      <td>0.292088</td>\n",
       "      <td>0.950425</td>\n",
       "      <td>-0.074577</td>\n",
       "    </tr>\n",
       "  </tbody>\n",
       "</table>\n",
       "</div>"
      ],
      "text/plain": [
       "          0         1         2         3\n",
       "0  0.268639  0.025462  0.180030  1.523984\n",
       "1  0.729016  0.444074  0.311564 -3.117667\n",
       "2  0.195033 -0.205909  1.464761 -0.521393\n",
       "3  0.557003 -1.419804  0.895612 -0.008003\n",
       "4 -0.526268 -0.548310 -1.588735  0.461697\n",
       "5 -0.215721  0.292088  0.950425 -0.074577"
      ]
     },
     "execution_count": 24,
     "metadata": {},
     "output_type": "execute_result"
    }
   ],
   "source": [
    "# dataframe 정의\n",
    "df = pd.DataFrame(np.random.randn(6, 4))\n",
    "df"
   ]
  },
  {
   "cell_type": "code",
   "execution_count": 26,
   "metadata": {},
   "outputs": [
    {
     "data": {
      "text/plain": [
       "DatetimeIndex(['2016-07-01', '2016-07-02', '2016-07-03', '2016-07-04',\n",
       "               '2016-07-05', '2016-07-06'],\n",
       "              dtype='datetime64[ns]', freq='D')"
      ]
     },
     "execution_count": 26,
     "metadata": {},
     "output_type": "execute_result"
    }
   ],
   "source": [
    "# pandas에서 제공하는 date range함수는 datetime 자료형으로 구성된,\n",
    "# 날짜 시각 등을 알 수 있는 자료형을 만드는 함수\n",
    "df.columns = ['A', 'B', 'C', 'D']\n",
    "# 6일간의 datetime으로 인덱스 설정\n",
    "df.index = pd.date_range('20160701', periods = 6)\n",
    "df.index"
   ]
  },
  {
   "cell_type": "code",
   "execution_count": 27,
   "metadata": {},
   "outputs": [
    {
     "data": {
      "text/html": [
       "<div>\n",
       "<style scoped>\n",
       "    .dataframe tbody tr th:only-of-type {\n",
       "        vertical-align: middle;\n",
       "    }\n",
       "\n",
       "    .dataframe tbody tr th {\n",
       "        vertical-align: top;\n",
       "    }\n",
       "\n",
       "    .dataframe thead th {\n",
       "        text-align: right;\n",
       "    }\n",
       "</style>\n",
       "<table border=\"1\" class=\"dataframe\">\n",
       "  <thead>\n",
       "    <tr style=\"text-align: right;\">\n",
       "      <th></th>\n",
       "      <th>A</th>\n",
       "      <th>B</th>\n",
       "      <th>C</th>\n",
       "      <th>D</th>\n",
       "    </tr>\n",
       "  </thead>\n",
       "  <tbody>\n",
       "    <tr>\n",
       "      <th>2016-07-01</th>\n",
       "      <td>0.268639</td>\n",
       "      <td>0.025462</td>\n",
       "      <td>0.180030</td>\n",
       "      <td>1.523984</td>\n",
       "    </tr>\n",
       "    <tr>\n",
       "      <th>2016-07-02</th>\n",
       "      <td>0.729016</td>\n",
       "      <td>0.444074</td>\n",
       "      <td>0.311564</td>\n",
       "      <td>-3.117667</td>\n",
       "    </tr>\n",
       "    <tr>\n",
       "      <th>2016-07-03</th>\n",
       "      <td>0.195033</td>\n",
       "      <td>-0.205909</td>\n",
       "      <td>1.464761</td>\n",
       "      <td>-0.521393</td>\n",
       "    </tr>\n",
       "    <tr>\n",
       "      <th>2016-07-04</th>\n",
       "      <td>0.557003</td>\n",
       "      <td>-1.419804</td>\n",
       "      <td>0.895612</td>\n",
       "      <td>-0.008003</td>\n",
       "    </tr>\n",
       "    <tr>\n",
       "      <th>2016-07-05</th>\n",
       "      <td>-0.526268</td>\n",
       "      <td>-0.548310</td>\n",
       "      <td>-1.588735</td>\n",
       "      <td>0.461697</td>\n",
       "    </tr>\n",
       "    <tr>\n",
       "      <th>2016-07-06</th>\n",
       "      <td>-0.215721</td>\n",
       "      <td>0.292088</td>\n",
       "      <td>0.950425</td>\n",
       "      <td>-0.074577</td>\n",
       "    </tr>\n",
       "  </tbody>\n",
       "</table>\n",
       "</div>"
      ],
      "text/plain": [
       "                   A         B         C         D\n",
       "2016-07-01  0.268639  0.025462  0.180030  1.523984\n",
       "2016-07-02  0.729016  0.444074  0.311564 -3.117667\n",
       "2016-07-03  0.195033 -0.205909  1.464761 -0.521393\n",
       "2016-07-04  0.557003 -1.419804  0.895612 -0.008003\n",
       "2016-07-05 -0.526268 -0.548310 -1.588735  0.461697\n",
       "2016-07-06 -0.215721  0.292088  0.950425 -0.074577"
      ]
     },
     "execution_count": 27,
     "metadata": {},
     "output_type": "execute_result"
    }
   ],
   "source": [
    "df"
   ]
  },
  {
   "cell_type": "code",
   "execution_count": 28,
   "metadata": {},
   "outputs": [
    {
     "data": {
      "text/html": [
       "<div>\n",
       "<style scoped>\n",
       "    .dataframe tbody tr th:only-of-type {\n",
       "        vertical-align: middle;\n",
       "    }\n",
       "\n",
       "    .dataframe tbody tr th {\n",
       "        vertical-align: top;\n",
       "    }\n",
       "\n",
       "    .dataframe thead th {\n",
       "        text-align: right;\n",
       "    }\n",
       "</style>\n",
       "<table border=\"1\" class=\"dataframe\">\n",
       "  <thead>\n",
       "    <tr style=\"text-align: right;\">\n",
       "      <th></th>\n",
       "      <th>A</th>\n",
       "      <th>B</th>\n",
       "      <th>C</th>\n",
       "      <th>D</th>\n",
       "      <th>F</th>\n",
       "    </tr>\n",
       "  </thead>\n",
       "  <tbody>\n",
       "    <tr>\n",
       "      <th>2016-07-01</th>\n",
       "      <td>0.268639</td>\n",
       "      <td>0.025462</td>\n",
       "      <td>0.180030</td>\n",
       "      <td>1.523984</td>\n",
       "      <td>1.0</td>\n",
       "    </tr>\n",
       "    <tr>\n",
       "      <th>2016-07-02</th>\n",
       "      <td>0.729016</td>\n",
       "      <td>0.444074</td>\n",
       "      <td>0.311564</td>\n",
       "      <td>-3.117667</td>\n",
       "      <td>NaN</td>\n",
       "    </tr>\n",
       "    <tr>\n",
       "      <th>2016-07-03</th>\n",
       "      <td>0.195033</td>\n",
       "      <td>-0.205909</td>\n",
       "      <td>1.464761</td>\n",
       "      <td>-0.521393</td>\n",
       "      <td>3.5</td>\n",
       "    </tr>\n",
       "    <tr>\n",
       "      <th>2016-07-04</th>\n",
       "      <td>0.557003</td>\n",
       "      <td>-1.419804</td>\n",
       "      <td>0.895612</td>\n",
       "      <td>-0.008003</td>\n",
       "      <td>6.1</td>\n",
       "    </tr>\n",
       "    <tr>\n",
       "      <th>2016-07-05</th>\n",
       "      <td>-0.526268</td>\n",
       "      <td>-0.548310</td>\n",
       "      <td>-1.588735</td>\n",
       "      <td>0.461697</td>\n",
       "      <td>NaN</td>\n",
       "    </tr>\n",
       "    <tr>\n",
       "      <th>2016-07-06</th>\n",
       "      <td>-0.215721</td>\n",
       "      <td>0.292088</td>\n",
       "      <td>0.950425</td>\n",
       "      <td>-0.074577</td>\n",
       "      <td>7.0</td>\n",
       "    </tr>\n",
       "  </tbody>\n",
       "</table>\n",
       "</div>"
      ],
      "text/plain": [
       "                   A         B         C         D    F\n",
       "2016-07-01  0.268639  0.025462  0.180030  1.523984  1.0\n",
       "2016-07-02  0.729016  0.444074  0.311564 -3.117667  NaN\n",
       "2016-07-03  0.195033 -0.205909  1.464761 -0.521393  3.5\n",
       "2016-07-04  0.557003 -1.419804  0.895612 -0.008003  6.1\n",
       "2016-07-05 -0.526268 -0.548310 -1.588735  0.461697  NaN\n",
       "2016-07-06 -0.215721  0.292088  0.950425 -0.074577  7.0"
      ]
     },
     "execution_count": 28,
     "metadata": {},
     "output_type": "execute_result"
    }
   ],
   "source": [
    "df['F'] = [1.0, np.nan, 3.5, 6.1, np.nan, 7.0]\n",
    "df"
   ]
  },
  {
   "cell_type": "markdown",
   "metadata": {},
   "source": [
    "#### 3-1. Null값 처리"
   ]
  },
  {
   "cell_type": "code",
   "execution_count": 29,
   "metadata": {},
   "outputs": [
    {
     "data": {
      "text/html": [
       "<div>\n",
       "<style scoped>\n",
       "    .dataframe tbody tr th:only-of-type {\n",
       "        vertical-align: middle;\n",
       "    }\n",
       "\n",
       "    .dataframe tbody tr th {\n",
       "        vertical-align: top;\n",
       "    }\n",
       "\n",
       "    .dataframe thead th {\n",
       "        text-align: right;\n",
       "    }\n",
       "</style>\n",
       "<table border=\"1\" class=\"dataframe\">\n",
       "  <thead>\n",
       "    <tr style=\"text-align: right;\">\n",
       "      <th></th>\n",
       "      <th>A</th>\n",
       "      <th>B</th>\n",
       "      <th>C</th>\n",
       "      <th>D</th>\n",
       "      <th>F</th>\n",
       "    </tr>\n",
       "  </thead>\n",
       "  <tbody>\n",
       "    <tr>\n",
       "      <th>2016-07-01</th>\n",
       "      <td>0.268639</td>\n",
       "      <td>0.025462</td>\n",
       "      <td>0.180030</td>\n",
       "      <td>1.523984</td>\n",
       "      <td>1.0</td>\n",
       "    </tr>\n",
       "    <tr>\n",
       "      <th>2016-07-03</th>\n",
       "      <td>0.195033</td>\n",
       "      <td>-0.205909</td>\n",
       "      <td>1.464761</td>\n",
       "      <td>-0.521393</td>\n",
       "      <td>3.5</td>\n",
       "    </tr>\n",
       "    <tr>\n",
       "      <th>2016-07-04</th>\n",
       "      <td>0.557003</td>\n",
       "      <td>-1.419804</td>\n",
       "      <td>0.895612</td>\n",
       "      <td>-0.008003</td>\n",
       "      <td>6.1</td>\n",
       "    </tr>\n",
       "    <tr>\n",
       "      <th>2016-07-06</th>\n",
       "      <td>-0.215721</td>\n",
       "      <td>0.292088</td>\n",
       "      <td>0.950425</td>\n",
       "      <td>-0.074577</td>\n",
       "      <td>7.0</td>\n",
       "    </tr>\n",
       "  </tbody>\n",
       "</table>\n",
       "</div>"
      ],
      "text/plain": [
       "                   A         B         C         D    F\n",
       "2016-07-01  0.268639  0.025462  0.180030  1.523984  1.0\n",
       "2016-07-03  0.195033 -0.205909  1.464761 -0.521393  3.5\n",
       "2016-07-04  0.557003 -1.419804  0.895612 -0.008003  6.1\n",
       "2016-07-06 -0.215721  0.292088  0.950425 -0.074577  7.0"
      ]
     },
     "execution_count": 29,
     "metadata": {},
     "output_type": "execute_result"
    }
   ],
   "source": [
    "# 행의 값 중 하나라도 null인 경우 그 행 제거\n",
    "df.dropna(how = 'any')"
   ]
  },
  {
   "cell_type": "code",
   "execution_count": 30,
   "metadata": {},
   "outputs": [
    {
     "data": {
      "text/html": [
       "<div>\n",
       "<style scoped>\n",
       "    .dataframe tbody tr th:only-of-type {\n",
       "        vertical-align: middle;\n",
       "    }\n",
       "\n",
       "    .dataframe tbody tr th {\n",
       "        vertical-align: top;\n",
       "    }\n",
       "\n",
       "    .dataframe thead th {\n",
       "        text-align: right;\n",
       "    }\n",
       "</style>\n",
       "<table border=\"1\" class=\"dataframe\">\n",
       "  <thead>\n",
       "    <tr style=\"text-align: right;\">\n",
       "      <th></th>\n",
       "      <th>A</th>\n",
       "      <th>B</th>\n",
       "      <th>C</th>\n",
       "      <th>D</th>\n",
       "      <th>F</th>\n",
       "    </tr>\n",
       "  </thead>\n",
       "  <tbody>\n",
       "    <tr>\n",
       "      <th>2016-07-01</th>\n",
       "      <td>0.268639</td>\n",
       "      <td>0.025462</td>\n",
       "      <td>0.180030</td>\n",
       "      <td>1.523984</td>\n",
       "      <td>1.0</td>\n",
       "    </tr>\n",
       "    <tr>\n",
       "      <th>2016-07-02</th>\n",
       "      <td>0.729016</td>\n",
       "      <td>0.444074</td>\n",
       "      <td>0.311564</td>\n",
       "      <td>-3.117667</td>\n",
       "      <td>NaN</td>\n",
       "    </tr>\n",
       "    <tr>\n",
       "      <th>2016-07-03</th>\n",
       "      <td>0.195033</td>\n",
       "      <td>-0.205909</td>\n",
       "      <td>1.464761</td>\n",
       "      <td>-0.521393</td>\n",
       "      <td>3.5</td>\n",
       "    </tr>\n",
       "    <tr>\n",
       "      <th>2016-07-04</th>\n",
       "      <td>0.557003</td>\n",
       "      <td>-1.419804</td>\n",
       "      <td>0.895612</td>\n",
       "      <td>-0.008003</td>\n",
       "      <td>6.1</td>\n",
       "    </tr>\n",
       "    <tr>\n",
       "      <th>2016-07-05</th>\n",
       "      <td>-0.526268</td>\n",
       "      <td>-0.548310</td>\n",
       "      <td>-1.588735</td>\n",
       "      <td>0.461697</td>\n",
       "      <td>NaN</td>\n",
       "    </tr>\n",
       "    <tr>\n",
       "      <th>2016-07-06</th>\n",
       "      <td>-0.215721</td>\n",
       "      <td>0.292088</td>\n",
       "      <td>0.950425</td>\n",
       "      <td>-0.074577</td>\n",
       "      <td>7.0</td>\n",
       "    </tr>\n",
       "  </tbody>\n",
       "</table>\n",
       "</div>"
      ],
      "text/plain": [
       "                   A         B         C         D    F\n",
       "2016-07-01  0.268639  0.025462  0.180030  1.523984  1.0\n",
       "2016-07-02  0.729016  0.444074  0.311564 -3.117667  NaN\n",
       "2016-07-03  0.195033 -0.205909  1.464761 -0.521393  3.5\n",
       "2016-07-04  0.557003 -1.419804  0.895612 -0.008003  6.1\n",
       "2016-07-05 -0.526268 -0.548310 -1.588735  0.461697  NaN\n",
       "2016-07-06 -0.215721  0.292088  0.950425 -0.074577  7.0"
      ]
     },
     "execution_count": 30,
     "metadata": {},
     "output_type": "execute_result"
    }
   ],
   "source": [
    "# 행의 모든 값이 null인 경우 그 행 제거\n",
    "df.dropna(how = 'all')"
   ]
  },
  {
   "cell_type": "code",
   "execution_count": 31,
   "metadata": {},
   "outputs": [
    {
     "data": {
      "text/html": [
       "<div>\n",
       "<style scoped>\n",
       "    .dataframe tbody tr th:only-of-type {\n",
       "        vertical-align: middle;\n",
       "    }\n",
       "\n",
       "    .dataframe tbody tr th {\n",
       "        vertical-align: top;\n",
       "    }\n",
       "\n",
       "    .dataframe thead th {\n",
       "        text-align: right;\n",
       "    }\n",
       "</style>\n",
       "<table border=\"1\" class=\"dataframe\">\n",
       "  <thead>\n",
       "    <tr style=\"text-align: right;\">\n",
       "      <th></th>\n",
       "      <th>A</th>\n",
       "      <th>B</th>\n",
       "      <th>C</th>\n",
       "      <th>D</th>\n",
       "      <th>F</th>\n",
       "    </tr>\n",
       "  </thead>\n",
       "  <tbody>\n",
       "    <tr>\n",
       "      <th>2016-07-01</th>\n",
       "      <td>0.268639</td>\n",
       "      <td>0.025462</td>\n",
       "      <td>0.180030</td>\n",
       "      <td>1.523984</td>\n",
       "      <td>1.0</td>\n",
       "    </tr>\n",
       "    <tr>\n",
       "      <th>2016-07-02</th>\n",
       "      <td>0.729016</td>\n",
       "      <td>0.444074</td>\n",
       "      <td>0.311564</td>\n",
       "      <td>-3.117667</td>\n",
       "      <td>0.5</td>\n",
       "    </tr>\n",
       "    <tr>\n",
       "      <th>2016-07-03</th>\n",
       "      <td>0.195033</td>\n",
       "      <td>-0.205909</td>\n",
       "      <td>1.464761</td>\n",
       "      <td>-0.521393</td>\n",
       "      <td>3.5</td>\n",
       "    </tr>\n",
       "    <tr>\n",
       "      <th>2016-07-04</th>\n",
       "      <td>0.557003</td>\n",
       "      <td>-1.419804</td>\n",
       "      <td>0.895612</td>\n",
       "      <td>-0.008003</td>\n",
       "      <td>6.1</td>\n",
       "    </tr>\n",
       "    <tr>\n",
       "      <th>2016-07-05</th>\n",
       "      <td>-0.526268</td>\n",
       "      <td>-0.548310</td>\n",
       "      <td>-1.588735</td>\n",
       "      <td>0.461697</td>\n",
       "      <td>0.5</td>\n",
       "    </tr>\n",
       "    <tr>\n",
       "      <th>2016-07-06</th>\n",
       "      <td>-0.215721</td>\n",
       "      <td>0.292088</td>\n",
       "      <td>0.950425</td>\n",
       "      <td>-0.074577</td>\n",
       "      <td>7.0</td>\n",
       "    </tr>\n",
       "  </tbody>\n",
       "</table>\n",
       "</div>"
      ],
      "text/plain": [
       "                   A         B         C         D    F\n",
       "2016-07-01  0.268639  0.025462  0.180030  1.523984  1.0\n",
       "2016-07-02  0.729016  0.444074  0.311564 -3.117667  0.5\n",
       "2016-07-03  0.195033 -0.205909  1.464761 -0.521393  3.5\n",
       "2016-07-04  0.557003 -1.419804  0.895612 -0.008003  6.1\n",
       "2016-07-05 -0.526268 -0.548310 -1.588735  0.461697  0.5\n",
       "2016-07-06 -0.215721  0.292088  0.950425 -0.074577  7.0"
      ]
     },
     "execution_count": 31,
     "metadata": {},
     "output_type": "execute_result"
    }
   ],
   "source": [
    "# null값 대체\n",
    "df.fillna(0.5)"
   ]
  },
  {
   "cell_type": "code",
   "execution_count": 32,
   "metadata": {},
   "outputs": [
    {
     "data": {
      "text/html": [
       "<div>\n",
       "<style scoped>\n",
       "    .dataframe tbody tr th:only-of-type {\n",
       "        vertical-align: middle;\n",
       "    }\n",
       "\n",
       "    .dataframe tbody tr th {\n",
       "        vertical-align: top;\n",
       "    }\n",
       "\n",
       "    .dataframe thead th {\n",
       "        text-align: right;\n",
       "    }\n",
       "</style>\n",
       "<table border=\"1\" class=\"dataframe\">\n",
       "  <thead>\n",
       "    <tr style=\"text-align: right;\">\n",
       "      <th></th>\n",
       "      <th>A</th>\n",
       "      <th>B</th>\n",
       "      <th>C</th>\n",
       "      <th>D</th>\n",
       "      <th>F</th>\n",
       "    </tr>\n",
       "  </thead>\n",
       "  <tbody>\n",
       "    <tr>\n",
       "      <th>2016-07-02</th>\n",
       "      <td>0.729016</td>\n",
       "      <td>0.444074</td>\n",
       "      <td>0.311564</td>\n",
       "      <td>-3.117667</td>\n",
       "      <td>NaN</td>\n",
       "    </tr>\n",
       "    <tr>\n",
       "      <th>2016-07-05</th>\n",
       "      <td>-0.526268</td>\n",
       "      <td>-0.548310</td>\n",
       "      <td>-1.588735</td>\n",
       "      <td>0.461697</td>\n",
       "      <td>NaN</td>\n",
       "    </tr>\n",
       "  </tbody>\n",
       "</table>\n",
       "</div>"
      ],
      "text/plain": [
       "                   A         B         C         D   F\n",
       "2016-07-02  0.729016  0.444074  0.311564 -3.117667 NaN\n",
       "2016-07-05 -0.526268 -0.548310 -1.588735  0.461697 NaN"
      ]
     },
     "execution_count": 32,
     "metadata": {},
     "output_type": "execute_result"
    }
   ],
   "source": [
    "# 특정 열에서 null값을 포함하는 행만 추출하기\n",
    "df.loc[df.isnull()['F'], :]"
   ]
  },
  {
   "cell_type": "code",
   "execution_count": 36,
   "metadata": {},
   "outputs": [
    {
     "data": {
      "text/html": [
       "<div>\n",
       "<style scoped>\n",
       "    .dataframe tbody tr th:only-of-type {\n",
       "        vertical-align: middle;\n",
       "    }\n",
       "\n",
       "    .dataframe tbody tr th {\n",
       "        vertical-align: top;\n",
       "    }\n",
       "\n",
       "    .dataframe thead th {\n",
       "        text-align: right;\n",
       "    }\n",
       "</style>\n",
       "<table border=\"1\" class=\"dataframe\">\n",
       "  <thead>\n",
       "    <tr style=\"text-align: right;\">\n",
       "      <th></th>\n",
       "      <th>A</th>\n",
       "      <th>B</th>\n",
       "      <th>C</th>\n",
       "      <th>D</th>\n",
       "      <th>F</th>\n",
       "    </tr>\n",
       "  </thead>\n",
       "  <tbody>\n",
       "    <tr>\n",
       "      <th>2016-07-02</th>\n",
       "      <td>0.729016</td>\n",
       "      <td>0.444074</td>\n",
       "      <td>0.311564</td>\n",
       "      <td>-3.117667</td>\n",
       "      <td>NaN</td>\n",
       "    </tr>\n",
       "    <tr>\n",
       "      <th>2016-07-03</th>\n",
       "      <td>0.195033</td>\n",
       "      <td>-0.205909</td>\n",
       "      <td>1.464761</td>\n",
       "      <td>-0.521393</td>\n",
       "      <td>3.5</td>\n",
       "    </tr>\n",
       "    <tr>\n",
       "      <th>2016-07-04</th>\n",
       "      <td>0.557003</td>\n",
       "      <td>-1.419804</td>\n",
       "      <td>0.895612</td>\n",
       "      <td>-0.008003</td>\n",
       "      <td>6.1</td>\n",
       "    </tr>\n",
       "    <tr>\n",
       "      <th>2016-07-05</th>\n",
       "      <td>-0.526268</td>\n",
       "      <td>-0.548310</td>\n",
       "      <td>-1.588735</td>\n",
       "      <td>0.461697</td>\n",
       "      <td>NaN</td>\n",
       "    </tr>\n",
       "    <tr>\n",
       "      <th>2016-07-06</th>\n",
       "      <td>-0.215721</td>\n",
       "      <td>0.292088</td>\n",
       "      <td>0.950425</td>\n",
       "      <td>-0.074577</td>\n",
       "      <td>7.0</td>\n",
       "    </tr>\n",
       "  </tbody>\n",
       "</table>\n",
       "</div>"
      ],
      "text/plain": [
       "                   A         B         C         D    F\n",
       "2016-07-02  0.729016  0.444074  0.311564 -3.117667  NaN\n",
       "2016-07-03  0.195033 -0.205909  1.464761 -0.521393  3.5\n",
       "2016-07-04  0.557003 -1.419804  0.895612 -0.008003  6.1\n",
       "2016-07-05 -0.526268 -0.548310 -1.588735  0.461697  NaN\n",
       "2016-07-06 -0.215721  0.292088  0.950425 -0.074577  7.0"
      ]
     },
     "execution_count": 36,
     "metadata": {},
     "output_type": "execute_result"
    }
   ],
   "source": [
    "# 특정 행 제거\n",
    "df.drop(pd.to_datetime('20160701'))"
   ]
  },
  {
   "cell_type": "code",
   "execution_count": 37,
   "metadata": {},
   "outputs": [
    {
     "data": {
      "text/html": [
       "<div>\n",
       "<style scoped>\n",
       "    .dataframe tbody tr th:only-of-type {\n",
       "        vertical-align: middle;\n",
       "    }\n",
       "\n",
       "    .dataframe tbody tr th {\n",
       "        vertical-align: top;\n",
       "    }\n",
       "\n",
       "    .dataframe thead th {\n",
       "        text-align: right;\n",
       "    }\n",
       "</style>\n",
       "<table border=\"1\" class=\"dataframe\">\n",
       "  <thead>\n",
       "    <tr style=\"text-align: right;\">\n",
       "      <th></th>\n",
       "      <th>A</th>\n",
       "      <th>B</th>\n",
       "      <th>C</th>\n",
       "      <th>D</th>\n",
       "    </tr>\n",
       "  </thead>\n",
       "  <tbody>\n",
       "    <tr>\n",
       "      <th>2016-07-01</th>\n",
       "      <td>0.268639</td>\n",
       "      <td>0.025462</td>\n",
       "      <td>0.180030</td>\n",
       "      <td>1.523984</td>\n",
       "    </tr>\n",
       "    <tr>\n",
       "      <th>2016-07-02</th>\n",
       "      <td>0.729016</td>\n",
       "      <td>0.444074</td>\n",
       "      <td>0.311564</td>\n",
       "      <td>-3.117667</td>\n",
       "    </tr>\n",
       "    <tr>\n",
       "      <th>2016-07-03</th>\n",
       "      <td>0.195033</td>\n",
       "      <td>-0.205909</td>\n",
       "      <td>1.464761</td>\n",
       "      <td>-0.521393</td>\n",
       "    </tr>\n",
       "    <tr>\n",
       "      <th>2016-07-04</th>\n",
       "      <td>0.557003</td>\n",
       "      <td>-1.419804</td>\n",
       "      <td>0.895612</td>\n",
       "      <td>-0.008003</td>\n",
       "    </tr>\n",
       "    <tr>\n",
       "      <th>2016-07-05</th>\n",
       "      <td>-0.526268</td>\n",
       "      <td>-0.548310</td>\n",
       "      <td>-1.588735</td>\n",
       "      <td>0.461697</td>\n",
       "    </tr>\n",
       "    <tr>\n",
       "      <th>2016-07-06</th>\n",
       "      <td>-0.215721</td>\n",
       "      <td>0.292088</td>\n",
       "      <td>0.950425</td>\n",
       "      <td>-0.074577</td>\n",
       "    </tr>\n",
       "  </tbody>\n",
       "</table>\n",
       "</div>"
      ],
      "text/plain": [
       "                   A         B         C         D\n",
       "2016-07-01  0.268639  0.025462  0.180030  1.523984\n",
       "2016-07-02  0.729016  0.444074  0.311564 -3.117667\n",
       "2016-07-03  0.195033 -0.205909  1.464761 -0.521393\n",
       "2016-07-04  0.557003 -1.419804  0.895612 -0.008003\n",
       "2016-07-05 -0.526268 -0.548310 -1.588735  0.461697\n",
       "2016-07-06 -0.215721  0.292088  0.950425 -0.074577"
      ]
     },
     "execution_count": 37,
     "metadata": {},
     "output_type": "execute_result"
    }
   ],
   "source": [
    "# 특정 열 제거\n",
    "df.drop('F', axis = 1)"
   ]
  },
  {
   "cell_type": "markdown",
   "metadata": {},
   "source": [
    "### 4. 계산식 함수"
   ]
  },
  {
   "cell_type": "code",
   "execution_count": 39,
   "metadata": {},
   "outputs": [],
   "source": [
    "# dataframe 정의\n",
    "data = [[1.4, np.nan],\n",
    "        [7.1, -4.5],\n",
    "       [np.nan, np.nan],\n",
    "       [0.75, -1.3]]\n",
    "\n",
    "df = pd.DataFrame(data, columns = ['one', 'two'],\n",
    "                 index = ['a', 'b', 'c', 'd'])"
   ]
  },
  {
   "cell_type": "code",
   "execution_count": 40,
   "metadata": {},
   "outputs": [
    {
     "data": {
      "text/html": [
       "<div>\n",
       "<style scoped>\n",
       "    .dataframe tbody tr th:only-of-type {\n",
       "        vertical-align: middle;\n",
       "    }\n",
       "\n",
       "    .dataframe tbody tr th {\n",
       "        vertical-align: top;\n",
       "    }\n",
       "\n",
       "    .dataframe thead th {\n",
       "        text-align: right;\n",
       "    }\n",
       "</style>\n",
       "<table border=\"1\" class=\"dataframe\">\n",
       "  <thead>\n",
       "    <tr style=\"text-align: right;\">\n",
       "      <th></th>\n",
       "      <th>one</th>\n",
       "      <th>two</th>\n",
       "    </tr>\n",
       "  </thead>\n",
       "  <tbody>\n",
       "    <tr>\n",
       "      <th>a</th>\n",
       "      <td>1.40</td>\n",
       "      <td>NaN</td>\n",
       "    </tr>\n",
       "    <tr>\n",
       "      <th>b</th>\n",
       "      <td>7.10</td>\n",
       "      <td>-4.5</td>\n",
       "    </tr>\n",
       "    <tr>\n",
       "      <th>c</th>\n",
       "      <td>NaN</td>\n",
       "      <td>NaN</td>\n",
       "    </tr>\n",
       "    <tr>\n",
       "      <th>d</th>\n",
       "      <td>0.75</td>\n",
       "      <td>-1.3</td>\n",
       "    </tr>\n",
       "  </tbody>\n",
       "</table>\n",
       "</div>"
      ],
      "text/plain": [
       "    one  two\n",
       "a  1.40  NaN\n",
       "b  7.10 -4.5\n",
       "c   NaN  NaN\n",
       "d  0.75 -1.3"
      ]
     },
     "execution_count": 40,
     "metadata": {},
     "output_type": "execute_result"
    }
   ],
   "source": [
    "df"
   ]
  },
  {
   "cell_type": "code",
   "execution_count": 41,
   "metadata": {},
   "outputs": [
    {
     "data": {
      "text/plain": [
       "one    9.25\n",
       "two   -5.80\n",
       "dtype: float64"
      ]
     },
     "execution_count": 41,
     "metadata": {},
     "output_type": "execute_result"
    }
   ],
   "source": [
    "# 열의 합 (행 방향이므로 axis = 0)\n",
    "# null값은 0으로 생각\n",
    "df.sum(axis = 0)"
   ]
  },
  {
   "cell_type": "code",
   "execution_count": 42,
   "metadata": {},
   "outputs": [
    {
     "data": {
      "text/plain": [
       "a    1.40\n",
       "b    2.60\n",
       "c    0.00\n",
       "d   -0.55\n",
       "dtype: float64"
      ]
     },
     "execution_count": 42,
     "metadata": {},
     "output_type": "execute_result"
    }
   ],
   "source": [
    "# 행의 합 (열 방향이므로 axis = 1)\n",
    "# null값은 0으로 생각\n",
    "df.sum(axis = 1)"
   ]
  },
  {
   "cell_type": "code",
   "execution_count": 43,
   "metadata": {},
   "outputs": [
    {
     "data": {
      "text/plain": [
       "a     NaN\n",
       "b    2.60\n",
       "c     NaN\n",
       "d   -0.55\n",
       "dtype: float64"
      ]
     },
     "execution_count": 43,
     "metadata": {},
     "output_type": "execute_result"
    }
   ],
   "source": [
    "# null값을 0으로 생각하지 않고 그대로 받는 경우\n",
    "df.sum(axis = 1, skipna = False)"
   ]
  },
  {
   "cell_type": "code",
   "execution_count": 44,
   "metadata": {},
   "outputs": [
    {
     "name": "stdout",
     "output_type": "stream",
     "text": [
      "9.25\n",
      "2.5999999999999996\n"
     ]
    }
   ],
   "source": [
    "# 특정 행 혹은 열에서만 계산하기\n",
    "print(df['one'].sum())\n",
    "print(df.loc['b'].sum())"
   ]
  },
  {
   "cell_type": "markdown",
   "metadata": {},
   "source": [
    "#### pandas dataframe 적용 계산 함수 정리\n",
    "<br>\n",
    "- count: 전체 개수 계산<br>\n",
    "- min, max: 최소, 최대값 계산<br>\n",
    "- argmin, argmax: 전체 값 중 최소, 최대값의 인덱스 반환<br>\n",
    "- idxmin, idxmax: 전체 인덱스 중 최소, 최대값 반환<br>\n",
    "- quantile: 전체 값의 특정 사분위수에 해당하는 값 반환<br>\n",
    "- sum: 전체 값의 합 계산<br>\n",
    "- mean: 전체 값의 평균 계산<br>\n",
    "- median: 전체 값의 중앙값 계산<br>\n",
    "- mad: 전체 값의 평균으로부터의 절대 편차의 평균 계산<br>\n",
    "- std, var: 전체 값의 표준편차, 분산 계산<br>\n",
    "- cumsum: 맨 첫 값부터 각 값까지의 누적합 계산 (0에서부터 시작)<br>\n",
    "- cumprod: 맨 첫 값부터 각 값까지의 누적곱 계산 (1에서부터 시작)"
   ]
  },
  {
   "cell_type": "code",
   "execution_count": 45,
   "metadata": {},
   "outputs": [
    {
     "data": {
      "text/html": [
       "<div>\n",
       "<style scoped>\n",
       "    .dataframe tbody tr th:only-of-type {\n",
       "        vertical-align: middle;\n",
       "    }\n",
       "\n",
       "    .dataframe tbody tr th {\n",
       "        vertical-align: top;\n",
       "    }\n",
       "\n",
       "    .dataframe thead th {\n",
       "        text-align: right;\n",
       "    }\n",
       "</style>\n",
       "<table border=\"1\" class=\"dataframe\">\n",
       "  <thead>\n",
       "    <tr style=\"text-align: right;\">\n",
       "      <th></th>\n",
       "      <th>A</th>\n",
       "      <th>B</th>\n",
       "      <th>C</th>\n",
       "      <th>D</th>\n",
       "    </tr>\n",
       "  </thead>\n",
       "  <tbody>\n",
       "    <tr>\n",
       "      <th>2016-07-01</th>\n",
       "      <td>-1.044331</td>\n",
       "      <td>0.721832</td>\n",
       "      <td>-1.202629</td>\n",
       "      <td>0.381702</td>\n",
       "    </tr>\n",
       "    <tr>\n",
       "      <th>2016-07-02</th>\n",
       "      <td>-0.500464</td>\n",
       "      <td>-0.442126</td>\n",
       "      <td>0.076523</td>\n",
       "      <td>-0.645767</td>\n",
       "    </tr>\n",
       "    <tr>\n",
       "      <th>2016-07-03</th>\n",
       "      <td>-0.864846</td>\n",
       "      <td>0.344902</td>\n",
       "      <td>-0.493828</td>\n",
       "      <td>0.889224</td>\n",
       "    </tr>\n",
       "    <tr>\n",
       "      <th>2016-07-04</th>\n",
       "      <td>1.702334</td>\n",
       "      <td>-1.751240</td>\n",
       "      <td>-1.480350</td>\n",
       "      <td>-1.129717</td>\n",
       "    </tr>\n",
       "    <tr>\n",
       "      <th>2016-07-05</th>\n",
       "      <td>0.574104</td>\n",
       "      <td>0.517336</td>\n",
       "      <td>0.128226</td>\n",
       "      <td>1.339358</td>\n",
       "    </tr>\n",
       "    <tr>\n",
       "      <th>2016-07-06</th>\n",
       "      <td>2.034332</td>\n",
       "      <td>-1.063475</td>\n",
       "      <td>0.739533</td>\n",
       "      <td>-1.479462</td>\n",
       "    </tr>\n",
       "  </tbody>\n",
       "</table>\n",
       "</div>"
      ],
      "text/plain": [
       "                   A         B         C         D\n",
       "2016-07-01 -1.044331  0.721832 -1.202629  0.381702\n",
       "2016-07-02 -0.500464 -0.442126  0.076523 -0.645767\n",
       "2016-07-03 -0.864846  0.344902 -0.493828  0.889224\n",
       "2016-07-04  1.702334 -1.751240 -1.480350 -1.129717\n",
       "2016-07-05  0.574104  0.517336  0.128226  1.339358\n",
       "2016-07-06  2.034332 -1.063475  0.739533 -1.479462"
      ]
     },
     "execution_count": 45,
     "metadata": {},
     "output_type": "execute_result"
    }
   ],
   "source": [
    "df2 = pd.DataFrame(np.random.randn(6, 4),\n",
    "                  columns = ['A', 'B', 'C', 'D'],\n",
    "                  index = pd.date_range('20160701', periods = 6))\n",
    "df2"
   ]
  },
  {
   "cell_type": "code",
   "execution_count": 46,
   "metadata": {},
   "outputs": [
    {
     "data": {
      "text/plain": [
       "-0.7869762282448338"
      ]
     },
     "execution_count": 46,
     "metadata": {},
     "output_type": "execute_result"
    }
   ],
   "source": [
    "# A열과 B열의 상관계수 계산\n",
    "df2['A'].corr(df2['B'])"
   ]
  },
  {
   "cell_type": "code",
   "execution_count": 47,
   "metadata": {},
   "outputs": [
    {
     "data": {
      "text/plain": [
       "0.03552797247218289"
      ]
     },
     "execution_count": 47,
     "metadata": {},
     "output_type": "execute_result"
    }
   ],
   "source": [
    "# B열과 C열의 공분산 계산\n",
    "df2['B'].cov(df2['C'])"
   ]
  },
  {
   "cell_type": "markdown",
   "metadata": {},
   "source": [
    "#### 4-1. 정렬 및 기타 함수"
   ]
  },
  {
   "cell_type": "code",
   "execution_count": 48,
   "metadata": {},
   "outputs": [
    {
     "data": {
      "text/html": [
       "<div>\n",
       "<style scoped>\n",
       "    .dataframe tbody tr th:only-of-type {\n",
       "        vertical-align: middle;\n",
       "    }\n",
       "\n",
       "    .dataframe tbody tr th {\n",
       "        vertical-align: top;\n",
       "    }\n",
       "\n",
       "    .dataframe thead th {\n",
       "        text-align: right;\n",
       "    }\n",
       "</style>\n",
       "<table border=\"1\" class=\"dataframe\">\n",
       "  <thead>\n",
       "    <tr style=\"text-align: right;\">\n",
       "      <th></th>\n",
       "      <th>D</th>\n",
       "      <th>B</th>\n",
       "      <th>C</th>\n",
       "      <th>A</th>\n",
       "    </tr>\n",
       "  </thead>\n",
       "  <tbody>\n",
       "    <tr>\n",
       "      <th>2016-07-03</th>\n",
       "      <td>0.889224</td>\n",
       "      <td>0.344902</td>\n",
       "      <td>-0.493828</td>\n",
       "      <td>-0.864846</td>\n",
       "    </tr>\n",
       "    <tr>\n",
       "      <th>2016-07-04</th>\n",
       "      <td>-1.129717</td>\n",
       "      <td>-1.751240</td>\n",
       "      <td>-1.480350</td>\n",
       "      <td>1.702334</td>\n",
       "    </tr>\n",
       "    <tr>\n",
       "      <th>2016-07-02</th>\n",
       "      <td>-0.645767</td>\n",
       "      <td>-0.442126</td>\n",
       "      <td>0.076523</td>\n",
       "      <td>-0.500464</td>\n",
       "    </tr>\n",
       "    <tr>\n",
       "      <th>2016-07-06</th>\n",
       "      <td>-1.479462</td>\n",
       "      <td>-1.063475</td>\n",
       "      <td>0.739533</td>\n",
       "      <td>2.034332</td>\n",
       "    </tr>\n",
       "    <tr>\n",
       "      <th>2016-07-01</th>\n",
       "      <td>0.381702</td>\n",
       "      <td>0.721832</td>\n",
       "      <td>-1.202629</td>\n",
       "      <td>-1.044331</td>\n",
       "    </tr>\n",
       "    <tr>\n",
       "      <th>2016-07-05</th>\n",
       "      <td>1.339358</td>\n",
       "      <td>0.517336</td>\n",
       "      <td>0.128226</td>\n",
       "      <td>0.574104</td>\n",
       "    </tr>\n",
       "  </tbody>\n",
       "</table>\n",
       "</div>"
      ],
      "text/plain": [
       "                   D         B         C         A\n",
       "2016-07-03  0.889224  0.344902 -0.493828 -0.864846\n",
       "2016-07-04 -1.129717 -1.751240 -1.480350  1.702334\n",
       "2016-07-02 -0.645767 -0.442126  0.076523 -0.500464\n",
       "2016-07-06 -1.479462 -1.063475  0.739533  2.034332\n",
       "2016-07-01  0.381702  0.721832 -1.202629 -1.044331\n",
       "2016-07-05  1.339358  0.517336  0.128226  0.574104"
      ]
     },
     "execution_count": 48,
     "metadata": {},
     "output_type": "execute_result"
    }
   ],
   "source": [
    "dates = df2.index\n",
    "random_dates = np.random.permutation(dates)\n",
    "df2 = df2.reindex(index = random_dates,\n",
    "                  columns = ['D', 'B', 'C', 'A'])\n",
    "df2"
   ]
  },
  {
   "cell_type": "code",
   "execution_count": 49,
   "metadata": {},
   "outputs": [
    {
     "data": {
      "text/html": [
       "<div>\n",
       "<style scoped>\n",
       "    .dataframe tbody tr th:only-of-type {\n",
       "        vertical-align: middle;\n",
       "    }\n",
       "\n",
       "    .dataframe tbody tr th {\n",
       "        vertical-align: top;\n",
       "    }\n",
       "\n",
       "    .dataframe thead th {\n",
       "        text-align: right;\n",
       "    }\n",
       "</style>\n",
       "<table border=\"1\" class=\"dataframe\">\n",
       "  <thead>\n",
       "    <tr style=\"text-align: right;\">\n",
       "      <th></th>\n",
       "      <th>D</th>\n",
       "      <th>B</th>\n",
       "      <th>C</th>\n",
       "      <th>A</th>\n",
       "    </tr>\n",
       "  </thead>\n",
       "  <tbody>\n",
       "    <tr>\n",
       "      <th>2016-07-01</th>\n",
       "      <td>0.381702</td>\n",
       "      <td>0.721832</td>\n",
       "      <td>-1.202629</td>\n",
       "      <td>-1.044331</td>\n",
       "    </tr>\n",
       "    <tr>\n",
       "      <th>2016-07-02</th>\n",
       "      <td>-0.645767</td>\n",
       "      <td>-0.442126</td>\n",
       "      <td>0.076523</td>\n",
       "      <td>-0.500464</td>\n",
       "    </tr>\n",
       "    <tr>\n",
       "      <th>2016-07-03</th>\n",
       "      <td>0.889224</td>\n",
       "      <td>0.344902</td>\n",
       "      <td>-0.493828</td>\n",
       "      <td>-0.864846</td>\n",
       "    </tr>\n",
       "    <tr>\n",
       "      <th>2016-07-04</th>\n",
       "      <td>-1.129717</td>\n",
       "      <td>-1.751240</td>\n",
       "      <td>-1.480350</td>\n",
       "      <td>1.702334</td>\n",
       "    </tr>\n",
       "    <tr>\n",
       "      <th>2016-07-05</th>\n",
       "      <td>1.339358</td>\n",
       "      <td>0.517336</td>\n",
       "      <td>0.128226</td>\n",
       "      <td>0.574104</td>\n",
       "    </tr>\n",
       "    <tr>\n",
       "      <th>2016-07-06</th>\n",
       "      <td>-1.479462</td>\n",
       "      <td>-1.063475</td>\n",
       "      <td>0.739533</td>\n",
       "      <td>2.034332</td>\n",
       "    </tr>\n",
       "  </tbody>\n",
       "</table>\n",
       "</div>"
      ],
      "text/plain": [
       "                   D         B         C         A\n",
       "2016-07-01  0.381702  0.721832 -1.202629 -1.044331\n",
       "2016-07-02 -0.645767 -0.442126  0.076523 -0.500464\n",
       "2016-07-03  0.889224  0.344902 -0.493828 -0.864846\n",
       "2016-07-04 -1.129717 -1.751240 -1.480350  1.702334\n",
       "2016-07-05  1.339358  0.517336  0.128226  0.574104\n",
       "2016-07-06 -1.479462 -1.063475  0.739533  2.034332"
      ]
     },
     "execution_count": 49,
     "metadata": {},
     "output_type": "execute_result"
    }
   ],
   "source": [
    "# index와 column의 순서 오름차순으로 정렬\n",
    "df2.sort_index(axis = 0)"
   ]
  },
  {
   "cell_type": "code",
   "execution_count": 50,
   "metadata": {},
   "outputs": [
    {
     "data": {
      "text/html": [
       "<div>\n",
       "<style scoped>\n",
       "    .dataframe tbody tr th:only-of-type {\n",
       "        vertical-align: middle;\n",
       "    }\n",
       "\n",
       "    .dataframe tbody tr th {\n",
       "        vertical-align: top;\n",
       "    }\n",
       "\n",
       "    .dataframe thead th {\n",
       "        text-align: right;\n",
       "    }\n",
       "</style>\n",
       "<table border=\"1\" class=\"dataframe\">\n",
       "  <thead>\n",
       "    <tr style=\"text-align: right;\">\n",
       "      <th></th>\n",
       "      <th>A</th>\n",
       "      <th>B</th>\n",
       "      <th>C</th>\n",
       "      <th>D</th>\n",
       "    </tr>\n",
       "  </thead>\n",
       "  <tbody>\n",
       "    <tr>\n",
       "      <th>2016-07-03</th>\n",
       "      <td>-0.864846</td>\n",
       "      <td>0.344902</td>\n",
       "      <td>-0.493828</td>\n",
       "      <td>0.889224</td>\n",
       "    </tr>\n",
       "    <tr>\n",
       "      <th>2016-07-04</th>\n",
       "      <td>1.702334</td>\n",
       "      <td>-1.751240</td>\n",
       "      <td>-1.480350</td>\n",
       "      <td>-1.129717</td>\n",
       "    </tr>\n",
       "    <tr>\n",
       "      <th>2016-07-02</th>\n",
       "      <td>-0.500464</td>\n",
       "      <td>-0.442126</td>\n",
       "      <td>0.076523</td>\n",
       "      <td>-0.645767</td>\n",
       "    </tr>\n",
       "    <tr>\n",
       "      <th>2016-07-06</th>\n",
       "      <td>2.034332</td>\n",
       "      <td>-1.063475</td>\n",
       "      <td>0.739533</td>\n",
       "      <td>-1.479462</td>\n",
       "    </tr>\n",
       "    <tr>\n",
       "      <th>2016-07-01</th>\n",
       "      <td>-1.044331</td>\n",
       "      <td>0.721832</td>\n",
       "      <td>-1.202629</td>\n",
       "      <td>0.381702</td>\n",
       "    </tr>\n",
       "    <tr>\n",
       "      <th>2016-07-05</th>\n",
       "      <td>0.574104</td>\n",
       "      <td>0.517336</td>\n",
       "      <td>0.128226</td>\n",
       "      <td>1.339358</td>\n",
       "    </tr>\n",
       "  </tbody>\n",
       "</table>\n",
       "</div>"
      ],
      "text/plain": [
       "                   A         B         C         D\n",
       "2016-07-03 -0.864846  0.344902 -0.493828  0.889224\n",
       "2016-07-04  1.702334 -1.751240 -1.480350 -1.129717\n",
       "2016-07-02 -0.500464 -0.442126  0.076523 -0.645767\n",
       "2016-07-06  2.034332 -1.063475  0.739533 -1.479462\n",
       "2016-07-01 -1.044331  0.721832 -1.202629  0.381702\n",
       "2016-07-05  0.574104  0.517336  0.128226  1.339358"
      ]
     },
     "execution_count": 50,
     "metadata": {},
     "output_type": "execute_result"
    }
   ],
   "source": [
    "df2.sort_index(axis = 1)"
   ]
  },
  {
   "cell_type": "code",
   "execution_count": 52,
   "metadata": {},
   "outputs": [
    {
     "data": {
      "text/html": [
       "<div>\n",
       "<style scoped>\n",
       "    .dataframe tbody tr th:only-of-type {\n",
       "        vertical-align: middle;\n",
       "    }\n",
       "\n",
       "    .dataframe tbody tr th {\n",
       "        vertical-align: top;\n",
       "    }\n",
       "\n",
       "    .dataframe thead th {\n",
       "        text-align: right;\n",
       "    }\n",
       "</style>\n",
       "<table border=\"1\" class=\"dataframe\">\n",
       "  <thead>\n",
       "    <tr style=\"text-align: right;\">\n",
       "      <th></th>\n",
       "      <th>D</th>\n",
       "      <th>B</th>\n",
       "      <th>C</th>\n",
       "      <th>A</th>\n",
       "    </tr>\n",
       "  </thead>\n",
       "  <tbody>\n",
       "    <tr>\n",
       "      <th>2016-07-06</th>\n",
       "      <td>-1.479462</td>\n",
       "      <td>-1.063475</td>\n",
       "      <td>0.739533</td>\n",
       "      <td>2.034332</td>\n",
       "    </tr>\n",
       "    <tr>\n",
       "      <th>2016-07-05</th>\n",
       "      <td>1.339358</td>\n",
       "      <td>0.517336</td>\n",
       "      <td>0.128226</td>\n",
       "      <td>0.574104</td>\n",
       "    </tr>\n",
       "    <tr>\n",
       "      <th>2016-07-04</th>\n",
       "      <td>-1.129717</td>\n",
       "      <td>-1.751240</td>\n",
       "      <td>-1.480350</td>\n",
       "      <td>1.702334</td>\n",
       "    </tr>\n",
       "    <tr>\n",
       "      <th>2016-07-03</th>\n",
       "      <td>0.889224</td>\n",
       "      <td>0.344902</td>\n",
       "      <td>-0.493828</td>\n",
       "      <td>-0.864846</td>\n",
       "    </tr>\n",
       "    <tr>\n",
       "      <th>2016-07-02</th>\n",
       "      <td>-0.645767</td>\n",
       "      <td>-0.442126</td>\n",
       "      <td>0.076523</td>\n",
       "      <td>-0.500464</td>\n",
       "    </tr>\n",
       "    <tr>\n",
       "      <th>2016-07-01</th>\n",
       "      <td>0.381702</td>\n",
       "      <td>0.721832</td>\n",
       "      <td>-1.202629</td>\n",
       "      <td>-1.044331</td>\n",
       "    </tr>\n",
       "  </tbody>\n",
       "</table>\n",
       "</div>"
      ],
      "text/plain": [
       "                   D         B         C         A\n",
       "2016-07-06 -1.479462 -1.063475  0.739533  2.034332\n",
       "2016-07-05  1.339358  0.517336  0.128226  0.574104\n",
       "2016-07-04 -1.129717 -1.751240 -1.480350  1.702334\n",
       "2016-07-03  0.889224  0.344902 -0.493828 -0.864846\n",
       "2016-07-02 -0.645767 -0.442126  0.076523 -0.500464\n",
       "2016-07-01  0.381702  0.721832 -1.202629 -1.044331"
      ]
     },
     "execution_count": 52,
     "metadata": {},
     "output_type": "execute_result"
    }
   ],
   "source": [
    "# 내림차순 정렬은 ascending 파라미터\n",
    "df2.sort_index(axis = 0, ascending = False)"
   ]
  },
  {
   "cell_type": "code",
   "execution_count": 53,
   "metadata": {},
   "outputs": [
    {
     "data": {
      "text/html": [
       "<div>\n",
       "<style scoped>\n",
       "    .dataframe tbody tr th:only-of-type {\n",
       "        vertical-align: middle;\n",
       "    }\n",
       "\n",
       "    .dataframe tbody tr th {\n",
       "        vertical-align: top;\n",
       "    }\n",
       "\n",
       "    .dataframe thead th {\n",
       "        text-align: right;\n",
       "    }\n",
       "</style>\n",
       "<table border=\"1\" class=\"dataframe\">\n",
       "  <thead>\n",
       "    <tr style=\"text-align: right;\">\n",
       "      <th></th>\n",
       "      <th>D</th>\n",
       "      <th>B</th>\n",
       "      <th>C</th>\n",
       "      <th>A</th>\n",
       "    </tr>\n",
       "  </thead>\n",
       "  <tbody>\n",
       "    <tr>\n",
       "      <th>2016-07-06</th>\n",
       "      <td>-1.479462</td>\n",
       "      <td>-1.063475</td>\n",
       "      <td>0.739533</td>\n",
       "      <td>2.034332</td>\n",
       "    </tr>\n",
       "    <tr>\n",
       "      <th>2016-07-04</th>\n",
       "      <td>-1.129717</td>\n",
       "      <td>-1.751240</td>\n",
       "      <td>-1.480350</td>\n",
       "      <td>1.702334</td>\n",
       "    </tr>\n",
       "    <tr>\n",
       "      <th>2016-07-02</th>\n",
       "      <td>-0.645767</td>\n",
       "      <td>-0.442126</td>\n",
       "      <td>0.076523</td>\n",
       "      <td>-0.500464</td>\n",
       "    </tr>\n",
       "    <tr>\n",
       "      <th>2016-07-01</th>\n",
       "      <td>0.381702</td>\n",
       "      <td>0.721832</td>\n",
       "      <td>-1.202629</td>\n",
       "      <td>-1.044331</td>\n",
       "    </tr>\n",
       "    <tr>\n",
       "      <th>2016-07-03</th>\n",
       "      <td>0.889224</td>\n",
       "      <td>0.344902</td>\n",
       "      <td>-0.493828</td>\n",
       "      <td>-0.864846</td>\n",
       "    </tr>\n",
       "    <tr>\n",
       "      <th>2016-07-05</th>\n",
       "      <td>1.339358</td>\n",
       "      <td>0.517336</td>\n",
       "      <td>0.128226</td>\n",
       "      <td>0.574104</td>\n",
       "    </tr>\n",
       "  </tbody>\n",
       "</table>\n",
       "</div>"
      ],
      "text/plain": [
       "                   D         B         C         A\n",
       "2016-07-06 -1.479462 -1.063475  0.739533  2.034332\n",
       "2016-07-04 -1.129717 -1.751240 -1.480350  1.702334\n",
       "2016-07-02 -0.645767 -0.442126  0.076523 -0.500464\n",
       "2016-07-01  0.381702  0.721832 -1.202629 -1.044331\n",
       "2016-07-03  0.889224  0.344902 -0.493828 -0.864846\n",
       "2016-07-05  1.339358  0.517336  0.128226  0.574104"
      ]
     },
     "execution_count": 53,
     "metadata": {},
     "output_type": "execute_result"
    }
   ],
   "source": [
    "# 값 기준 정렬하기\n",
    "# D열의 값이 오름차순이 되도록 정렬\n",
    "df2.sort_values(by = 'D')"
   ]
  },
  {
   "cell_type": "code",
   "execution_count": 54,
   "metadata": {},
   "outputs": [
    {
     "data": {
      "text/html": [
       "<div>\n",
       "<style scoped>\n",
       "    .dataframe tbody tr th:only-of-type {\n",
       "        vertical-align: middle;\n",
       "    }\n",
       "\n",
       "    .dataframe tbody tr th {\n",
       "        vertical-align: top;\n",
       "    }\n",
       "\n",
       "    .dataframe thead th {\n",
       "        text-align: right;\n",
       "    }\n",
       "</style>\n",
       "<table border=\"1\" class=\"dataframe\">\n",
       "  <thead>\n",
       "    <tr style=\"text-align: right;\">\n",
       "      <th></th>\n",
       "      <th>D</th>\n",
       "      <th>B</th>\n",
       "      <th>C</th>\n",
       "      <th>A</th>\n",
       "    </tr>\n",
       "  </thead>\n",
       "  <tbody>\n",
       "    <tr>\n",
       "      <th>2016-07-01</th>\n",
       "      <td>0.381702</td>\n",
       "      <td>0.721832</td>\n",
       "      <td>-1.202629</td>\n",
       "      <td>-1.044331</td>\n",
       "    </tr>\n",
       "    <tr>\n",
       "      <th>2016-07-05</th>\n",
       "      <td>1.339358</td>\n",
       "      <td>0.517336</td>\n",
       "      <td>0.128226</td>\n",
       "      <td>0.574104</td>\n",
       "    </tr>\n",
       "    <tr>\n",
       "      <th>2016-07-03</th>\n",
       "      <td>0.889224</td>\n",
       "      <td>0.344902</td>\n",
       "      <td>-0.493828</td>\n",
       "      <td>-0.864846</td>\n",
       "    </tr>\n",
       "    <tr>\n",
       "      <th>2016-07-02</th>\n",
       "      <td>-0.645767</td>\n",
       "      <td>-0.442126</td>\n",
       "      <td>0.076523</td>\n",
       "      <td>-0.500464</td>\n",
       "    </tr>\n",
       "    <tr>\n",
       "      <th>2016-07-06</th>\n",
       "      <td>-1.479462</td>\n",
       "      <td>-1.063475</td>\n",
       "      <td>0.739533</td>\n",
       "      <td>2.034332</td>\n",
       "    </tr>\n",
       "    <tr>\n",
       "      <th>2016-07-04</th>\n",
       "      <td>-1.129717</td>\n",
       "      <td>-1.751240</td>\n",
       "      <td>-1.480350</td>\n",
       "      <td>1.702334</td>\n",
       "    </tr>\n",
       "  </tbody>\n",
       "</table>\n",
       "</div>"
      ],
      "text/plain": [
       "                   D         B         C         A\n",
       "2016-07-01  0.381702  0.721832 -1.202629 -1.044331\n",
       "2016-07-05  1.339358  0.517336  0.128226  0.574104\n",
       "2016-07-03  0.889224  0.344902 -0.493828 -0.864846\n",
       "2016-07-02 -0.645767 -0.442126  0.076523 -0.500464\n",
       "2016-07-06 -1.479462 -1.063475  0.739533  2.034332\n",
       "2016-07-04 -1.129717 -1.751240 -1.480350  1.702334"
      ]
     },
     "execution_count": 54,
     "metadata": {},
     "output_type": "execute_result"
    }
   ],
   "source": [
    "# B열의 값이 내림차순이 되도록 정렬\n",
    "df2.sort_values(by = 'B', ascending = False)"
   ]
  },
  {
   "cell_type": "code",
   "execution_count": 55,
   "metadata": {},
   "outputs": [
    {
     "data": {
      "text/html": [
       "<div>\n",
       "<style scoped>\n",
       "    .dataframe tbody tr th:only-of-type {\n",
       "        vertical-align: middle;\n",
       "    }\n",
       "\n",
       "    .dataframe tbody tr th {\n",
       "        vertical-align: top;\n",
       "    }\n",
       "\n",
       "    .dataframe thead th {\n",
       "        text-align: right;\n",
       "    }\n",
       "</style>\n",
       "<table border=\"1\" class=\"dataframe\">\n",
       "  <thead>\n",
       "    <tr style=\"text-align: right;\">\n",
       "      <th></th>\n",
       "      <th>D</th>\n",
       "      <th>B</th>\n",
       "      <th>C</th>\n",
       "      <th>A</th>\n",
       "      <th>E</th>\n",
       "      <th>F</th>\n",
       "    </tr>\n",
       "  </thead>\n",
       "  <tbody>\n",
       "    <tr>\n",
       "      <th>2016-07-03</th>\n",
       "      <td>0.889224</td>\n",
       "      <td>0.344902</td>\n",
       "      <td>-0.493828</td>\n",
       "      <td>-0.864846</td>\n",
       "      <td>1</td>\n",
       "      <td>alpha</td>\n",
       "    </tr>\n",
       "    <tr>\n",
       "      <th>2016-07-04</th>\n",
       "      <td>-1.129717</td>\n",
       "      <td>-1.751240</td>\n",
       "      <td>-1.480350</td>\n",
       "      <td>1.702334</td>\n",
       "      <td>5</td>\n",
       "      <td>beta</td>\n",
       "    </tr>\n",
       "    <tr>\n",
       "      <th>2016-07-02</th>\n",
       "      <td>-0.645767</td>\n",
       "      <td>-0.442126</td>\n",
       "      <td>0.076523</td>\n",
       "      <td>-0.500464</td>\n",
       "      <td>1</td>\n",
       "      <td>gamma</td>\n",
       "    </tr>\n",
       "    <tr>\n",
       "      <th>2016-07-06</th>\n",
       "      <td>-1.479462</td>\n",
       "      <td>-1.063475</td>\n",
       "      <td>0.739533</td>\n",
       "      <td>2.034332</td>\n",
       "      <td>1</td>\n",
       "      <td>gamma</td>\n",
       "    </tr>\n",
       "    <tr>\n",
       "      <th>2016-07-01</th>\n",
       "      <td>0.381702</td>\n",
       "      <td>0.721832</td>\n",
       "      <td>-1.202629</td>\n",
       "      <td>-1.044331</td>\n",
       "      <td>1</td>\n",
       "      <td>alpha</td>\n",
       "    </tr>\n",
       "    <tr>\n",
       "      <th>2016-07-05</th>\n",
       "      <td>1.339358</td>\n",
       "      <td>0.517336</td>\n",
       "      <td>0.128226</td>\n",
       "      <td>0.574104</td>\n",
       "      <td>2</td>\n",
       "      <td>gamma</td>\n",
       "    </tr>\n",
       "  </tbody>\n",
       "</table>\n",
       "</div>"
      ],
      "text/plain": [
       "                   D         B         C         A  E      F\n",
       "2016-07-03  0.889224  0.344902 -0.493828 -0.864846  1  alpha\n",
       "2016-07-04 -1.129717 -1.751240 -1.480350  1.702334  5   beta\n",
       "2016-07-02 -0.645767 -0.442126  0.076523 -0.500464  1  gamma\n",
       "2016-07-06 -1.479462 -1.063475  0.739533  2.034332  1  gamma\n",
       "2016-07-01  0.381702  0.721832 -1.202629 -1.044331  1  alpha\n",
       "2016-07-05  1.339358  0.517336  0.128226  0.574104  2  gamma"
      ]
     },
     "execution_count": 55,
     "metadata": {},
     "output_type": "execute_result"
    }
   ],
   "source": [
    "df2[\"E\"] = np.random.randint(0, 6, size=6)\n",
    "df2[\"F\"] = [\"alpha\", \"beta\", \"gamma\", \"gamma\", \"alpha\", \"gamma\"]\n",
    "df2"
   ]
  },
  {
   "cell_type": "code",
   "execution_count": 56,
   "metadata": {},
   "outputs": [
    {
     "data": {
      "text/html": [
       "<div>\n",
       "<style scoped>\n",
       "    .dataframe tbody tr th:only-of-type {\n",
       "        vertical-align: middle;\n",
       "    }\n",
       "\n",
       "    .dataframe tbody tr th {\n",
       "        vertical-align: top;\n",
       "    }\n",
       "\n",
       "    .dataframe thead th {\n",
       "        text-align: right;\n",
       "    }\n",
       "</style>\n",
       "<table border=\"1\" class=\"dataframe\">\n",
       "  <thead>\n",
       "    <tr style=\"text-align: right;\">\n",
       "      <th></th>\n",
       "      <th>D</th>\n",
       "      <th>B</th>\n",
       "      <th>C</th>\n",
       "      <th>A</th>\n",
       "      <th>E</th>\n",
       "      <th>F</th>\n",
       "    </tr>\n",
       "  </thead>\n",
       "  <tbody>\n",
       "    <tr>\n",
       "      <th>2016-07-03</th>\n",
       "      <td>0.889224</td>\n",
       "      <td>0.344902</td>\n",
       "      <td>-0.493828</td>\n",
       "      <td>-0.864846</td>\n",
       "      <td>1</td>\n",
       "      <td>alpha</td>\n",
       "    </tr>\n",
       "    <tr>\n",
       "      <th>2016-07-01</th>\n",
       "      <td>0.381702</td>\n",
       "      <td>0.721832</td>\n",
       "      <td>-1.202629</td>\n",
       "      <td>-1.044331</td>\n",
       "      <td>1</td>\n",
       "      <td>alpha</td>\n",
       "    </tr>\n",
       "    <tr>\n",
       "      <th>2016-07-02</th>\n",
       "      <td>-0.645767</td>\n",
       "      <td>-0.442126</td>\n",
       "      <td>0.076523</td>\n",
       "      <td>-0.500464</td>\n",
       "      <td>1</td>\n",
       "      <td>gamma</td>\n",
       "    </tr>\n",
       "    <tr>\n",
       "      <th>2016-07-06</th>\n",
       "      <td>-1.479462</td>\n",
       "      <td>-1.063475</td>\n",
       "      <td>0.739533</td>\n",
       "      <td>2.034332</td>\n",
       "      <td>1</td>\n",
       "      <td>gamma</td>\n",
       "    </tr>\n",
       "    <tr>\n",
       "      <th>2016-07-05</th>\n",
       "      <td>1.339358</td>\n",
       "      <td>0.517336</td>\n",
       "      <td>0.128226</td>\n",
       "      <td>0.574104</td>\n",
       "      <td>2</td>\n",
       "      <td>gamma</td>\n",
       "    </tr>\n",
       "    <tr>\n",
       "      <th>2016-07-04</th>\n",
       "      <td>-1.129717</td>\n",
       "      <td>-1.751240</td>\n",
       "      <td>-1.480350</td>\n",
       "      <td>1.702334</td>\n",
       "      <td>5</td>\n",
       "      <td>beta</td>\n",
       "    </tr>\n",
       "  </tbody>\n",
       "</table>\n",
       "</div>"
      ],
      "text/plain": [
       "                   D         B         C         A  E      F\n",
       "2016-07-03  0.889224  0.344902 -0.493828 -0.864846  1  alpha\n",
       "2016-07-01  0.381702  0.721832 -1.202629 -1.044331  1  alpha\n",
       "2016-07-02 -0.645767 -0.442126  0.076523 -0.500464  1  gamma\n",
       "2016-07-06 -1.479462 -1.063475  0.739533  2.034332  1  gamma\n",
       "2016-07-05  1.339358  0.517336  0.128226  0.574104  2  gamma\n",
       "2016-07-04 -1.129717 -1.751240 -1.480350  1.702334  5   beta"
      ]
     },
     "execution_count": 56,
     "metadata": {},
     "output_type": "execute_result"
    }
   ],
   "source": [
    "# E열과 F열을 동시에 고려하여 오름차순\n",
    "df2.sort_values(by = ['E', 'F'])"
   ]
  },
  {
   "cell_type": "code",
   "execution_count": 57,
   "metadata": {},
   "outputs": [
    {
     "data": {
      "text/plain": [
       "2016-07-03     True\n",
       "2016-07-04     True\n",
       "2016-07-02    False\n",
       "2016-07-06    False\n",
       "2016-07-01     True\n",
       "2016-07-05    False\n",
       "Name: F, dtype: bool"
      ]
     },
     "execution_count": 57,
     "metadata": {},
     "output_type": "execute_result"
    }
   ],
   "source": [
    "# 지정한 행 또는 열에 특정 값이 있는지 확인\n",
    "df2['F'].isin(['alpha', 'beta'])"
   ]
  },
  {
   "cell_type": "code",
   "execution_count": null,
   "metadata": {},
   "outputs": [],
   "source": []
  }
 ],
 "metadata": {
  "kernelspec": {
   "display_name": "Python 3",
   "language": "python",
   "name": "python3"
  },
  "language_info": {
   "codemirror_mode": {
    "name": "ipython",
    "version": 3
   },
   "file_extension": ".py",
   "mimetype": "text/x-python",
   "name": "python",
   "nbconvert_exporter": "python",
   "pygments_lexer": "ipython3",
   "version": "3.8.5"
  }
 },
 "nbformat": 4,
 "nbformat_minor": 4
}
